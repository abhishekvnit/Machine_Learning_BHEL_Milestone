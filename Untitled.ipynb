{
 "cells": [
  {
   "cell_type": "code",
   "execution_count": 1,
   "id": "9cf2b013",
   "metadata": {},
   "outputs": [],
   "source": [
    "import pandas as pd\n",
    "import numpy as np\n",
    "import matplotlib.pyplot as plt\n",
    "%matplotlib inline\n",
    "import seaborn as sns\n",
    "\n",
    "sns.set()"
   ]
  },
  {
   "cell_type": "code",
   "execution_count": 2,
   "id": "b44e11ec",
   "metadata": {},
   "outputs": [],
   "source": [
    "data= pd.read_csv('BHELmilestones.csv')"
   ]
  },
  {
   "cell_type": "code",
   "execution_count": 3,
   "id": "2f4447f0",
   "metadata": {},
   "outputs": [
    {
     "data": {
      "text/html": [
       "<div>\n",
       "<style scoped>\n",
       "    .dataframe tbody tr th:only-of-type {\n",
       "        vertical-align: middle;\n",
       "    }\n",
       "\n",
       "    .dataframe tbody tr th {\n",
       "        vertical-align: top;\n",
       "    }\n",
       "\n",
       "    .dataframe thead th {\n",
       "        text-align: right;\n",
       "    }\n",
       "</style>\n",
       "<table border=\"1\" class=\"dataframe\">\n",
       "  <thead>\n",
       "    <tr style=\"text-align: right;\">\n",
       "      <th></th>\n",
       "      <th>0</th>\n",
       "      <th>Project</th>\n",
       "      <th>Sector</th>\n",
       "      <th>MW</th>\n",
       "      <th>Zero Date</th>\n",
       "      <th>State</th>\n",
       "      <th>Scope</th>\n",
       "      <th>Region</th>\n",
       "      <th>Customer</th>\n",
       "      <th>PROJECT START_Schedule</th>\n",
       "      <th>...</th>\n",
       "      <th>FULL LOAD_Schedule</th>\n",
       "      <th>FULL LOAD_Schedule_Exp/Actual</th>\n",
       "      <th>CAPACITY ADDITION_Schedule</th>\n",
       "      <th>CAPACITY ADDITION_Schedule_Exp/Actual</th>\n",
       "      <th>COMMERCIAL OPERATION DECLARATION_Schedule</th>\n",
       "      <th>COMMERCIAL OPERATION DECLARATION_Schedule_Exp/Actual</th>\n",
       "      <th>TRIAL OPERATION COMPLETION_Schedule</th>\n",
       "      <th>TRIAL OPERATION COMPLETION_Schedule_Exp/Actual</th>\n",
       "      <th>HAND OVER_Schedule</th>\n",
       "      <th>HAND OVER_Schedule_Exp/Actual</th>\n",
       "    </tr>\n",
       "  </thead>\n",
       "  <tbody>\n",
       "    <tr>\n",
       "      <th>0</th>\n",
       "      <td>1</td>\n",
       "      <td>MEJIA UNIT-5 (2 X 250 MW)</td>\n",
       "      <td>CENTRAL</td>\n",
       "      <td>250</td>\n",
       "      <td>15-06-2004</td>\n",
       "      <td>WEST BENGAL</td>\n",
       "      <td>EPC</td>\n",
       "      <td>PSER</td>\n",
       "      <td>DVC</td>\n",
       "      <td>N.A.</td>\n",
       "      <td>...</td>\n",
       "      <td>N.A.</td>\n",
       "      <td>N.A.</td>\n",
       "      <td>N.A.</td>\n",
       "      <td>N.A.</td>\n",
       "      <td>12-01-2007</td>\n",
       "      <td>29-02-2008</td>\n",
       "      <td>12-01-2007</td>\n",
       "      <td>29-02-2008</td>\n",
       "      <td>12-01-2007</td>\n",
       "      <td>29-02-2008</td>\n",
       "    </tr>\n",
       "    <tr>\n",
       "      <th>1</th>\n",
       "      <td>2</td>\n",
       "      <td>GIRAL UNIT-1 (2X125 MW)</td>\n",
       "      <td>STATE</td>\n",
       "      <td>125</td>\n",
       "      <td>08-10-2003</td>\n",
       "      <td>RAJASTHAN</td>\n",
       "      <td>BTG</td>\n",
       "      <td>PSNR</td>\n",
       "      <td>RRVUNL</td>\n",
       "      <td>N.A.</td>\n",
       "      <td>...</td>\n",
       "      <td>09-06-2006</td>\n",
       "      <td>14-09-2007</td>\n",
       "      <td>N.A.</td>\n",
       "      <td>N.A.</td>\n",
       "      <td>23-06-2006</td>\n",
       "      <td>18-10-2011</td>\n",
       "      <td>23-06-2006</td>\n",
       "      <td>18-10-2011</td>\n",
       "      <td>N.A.</td>\n",
       "      <td>N.A.</td>\n",
       "    </tr>\n",
       "    <tr>\n",
       "      <th>2</th>\n",
       "      <td>3</td>\n",
       "      <td>KORBA EAST UNIT-1 (2 X 250 MW)</td>\n",
       "      <td>STATE</td>\n",
       "      <td>250</td>\n",
       "      <td>28-04-2004</td>\n",
       "      <td>CHHATTISGARH</td>\n",
       "      <td>BTG</td>\n",
       "      <td>PSER</td>\n",
       "      <td>CSEB</td>\n",
       "      <td>N.A.</td>\n",
       "      <td>...</td>\n",
       "      <td>N.A.</td>\n",
       "      <td>N.A.</td>\n",
       "      <td>N.A.</td>\n",
       "      <td>N.A.</td>\n",
       "      <td>28-03-2007</td>\n",
       "      <td>14-12-2007</td>\n",
       "      <td>28-03-2007</td>\n",
       "      <td>27-01-2008</td>\n",
       "      <td>28-03-2007</td>\n",
       "      <td>27-01-2008</td>\n",
       "    </tr>\n",
       "    <tr>\n",
       "      <th>3</th>\n",
       "      <td>4</td>\n",
       "      <td>PARAS UNIT-1 (1X250 MW)</td>\n",
       "      <td>STATE</td>\n",
       "      <td>250</td>\n",
       "      <td>25-05-2004</td>\n",
       "      <td>MAHARASHTRA</td>\n",
       "      <td>BTG</td>\n",
       "      <td>PSWR</td>\n",
       "      <td>MAHAGENCO</td>\n",
       "      <td>N.A.</td>\n",
       "      <td>...</td>\n",
       "      <td>N.A.</td>\n",
       "      <td>N.A.</td>\n",
       "      <td>N.A.</td>\n",
       "      <td>N.A.</td>\n",
       "      <td>25-01-2007</td>\n",
       "      <td>31-03-2008</td>\n",
       "      <td>25-01-2007</td>\n",
       "      <td>27-01-2008</td>\n",
       "      <td>N.A.</td>\n",
       "      <td>N.A.</td>\n",
       "    </tr>\n",
       "    <tr>\n",
       "      <th>4</th>\n",
       "      <td>5</td>\n",
       "      <td>BIRSINGPUR (SANJAY GANDHI) TPS EXTN UNIT-5 (1X...</td>\n",
       "      <td>STATE</td>\n",
       "      <td>500</td>\n",
       "      <td>27-06-2003</td>\n",
       "      <td>MADHYA PRADESH</td>\n",
       "      <td>EPC</td>\n",
       "      <td>PSWR</td>\n",
       "      <td>MPEB</td>\n",
       "      <td>N.A.</td>\n",
       "      <td>...</td>\n",
       "      <td>N.A.</td>\n",
       "      <td>N.A.</td>\n",
       "      <td>N.A.</td>\n",
       "      <td>N.A.</td>\n",
       "      <td>26-12-2006</td>\n",
       "      <td>27-08-2008</td>\n",
       "      <td>26-12-2006</td>\n",
       "      <td>27-08-2008</td>\n",
       "      <td>N.A.</td>\n",
       "      <td>N.A.</td>\n",
       "    </tr>\n",
       "  </tbody>\n",
       "</table>\n",
       "<p>5 rows × 63 columns</p>\n",
       "</div>"
      ],
      "text/plain": [
       "   0                                            Project   Sector   MW  \\\n",
       "0  1                         MEJIA UNIT-5 (2 X 250 MW)   CENTRAL  250   \n",
       "1  2                            GIRAL UNIT-1 (2X125 MW)    STATE  125   \n",
       "2  3                     KORBA EAST UNIT-1 (2 X 250 MW)    STATE  250   \n",
       "3  4                           PARAS UNIT-1 (1X250 MW)     STATE  250   \n",
       "4  5  BIRSINGPUR (SANJAY GANDHI) TPS EXTN UNIT-5 (1X...    STATE  500   \n",
       "\n",
       "    Zero Date           State Scope Region   Customer PROJECT START_Schedule  \\\n",
       "0  15-06-2004     WEST BENGAL   EPC   PSER        DVC                   N.A.   \n",
       "1  08-10-2003       RAJASTHAN   BTG   PSNR     RRVUNL                   N.A.   \n",
       "2  28-04-2004    CHHATTISGARH   BTG   PSER       CSEB                   N.A.   \n",
       "3  25-05-2004     MAHARASHTRA   BTG   PSWR  MAHAGENCO                   N.A.   \n",
       "4  27-06-2003  MADHYA PRADESH   EPC   PSWR       MPEB                   N.A.   \n",
       "\n",
       "   ... FULL LOAD_Schedule FULL LOAD_Schedule_Exp/Actual  \\\n",
       "0  ...               N.A.                          N.A.   \n",
       "1  ...         09-06-2006                    14-09-2007   \n",
       "2  ...               N.A.                          N.A.   \n",
       "3  ...               N.A.                          N.A.   \n",
       "4  ...               N.A.                          N.A.   \n",
       "\n",
       "  CAPACITY ADDITION_Schedule CAPACITY ADDITION_Schedule_Exp/Actual  \\\n",
       "0                       N.A.                                  N.A.   \n",
       "1                       N.A.                                  N.A.   \n",
       "2                       N.A.                                  N.A.   \n",
       "3                       N.A.                                  N.A.   \n",
       "4                       N.A.                                  N.A.   \n",
       "\n",
       "  COMMERCIAL OPERATION DECLARATION_Schedule  \\\n",
       "0                                12-01-2007   \n",
       "1                                23-06-2006   \n",
       "2                                28-03-2007   \n",
       "3                                25-01-2007   \n",
       "4                                26-12-2006   \n",
       "\n",
       "  COMMERCIAL OPERATION DECLARATION_Schedule_Exp/Actual  \\\n",
       "0                                         29-02-2008     \n",
       "1                                         18-10-2011     \n",
       "2                                         14-12-2007     \n",
       "3                                         31-03-2008     \n",
       "4                                         27-08-2008     \n",
       "\n",
       "  TRIAL OPERATION COMPLETION_Schedule  \\\n",
       "0                          12-01-2007   \n",
       "1                          23-06-2006   \n",
       "2                          28-03-2007   \n",
       "3                          25-01-2007   \n",
       "4                          26-12-2006   \n",
       "\n",
       "  TRIAL OPERATION COMPLETION_Schedule_Exp/Actual HAND OVER_Schedule  \\\n",
       "0                                     29-02-2008         12-01-2007   \n",
       "1                                     18-10-2011               N.A.   \n",
       "2                                     27-01-2008         28-03-2007   \n",
       "3                                     27-01-2008               N.A.   \n",
       "4                                     27-08-2008               N.A.   \n",
       "\n",
       "  HAND OVER_Schedule_Exp/Actual  \n",
       "0                    29-02-2008  \n",
       "1                          N.A.  \n",
       "2                    27-01-2008  \n",
       "3                          N.A.  \n",
       "4                          N.A.  \n",
       "\n",
       "[5 rows x 63 columns]"
      ]
     },
     "execution_count": 3,
     "metadata": {},
     "output_type": "execute_result"
    }
   ],
   "source": [
    "data.head()"
   ]
  },
  {
   "cell_type": "code",
   "execution_count": 4,
   "id": "ef8dc9d8",
   "metadata": {},
   "outputs": [],
   "source": [
    "data['Region']=data['Region'].replace({'PSER':0, 'PSWR':1, 'PSNR':2,'PSSR': 3})"
   ]
  },
  {
   "cell_type": "code",
   "execution_count": 5,
   "id": "5c1de152",
   "metadata": {},
   "outputs": [],
   "source": [
    "# data.isnull().sum()"
   ]
  },
  {
   "cell_type": "code",
   "execution_count": 6,
   "id": "ffc77df8",
   "metadata": {},
   "outputs": [],
   "source": [
    "# data.dropna()"
   ]
  },
  {
   "cell_type": "code",
   "execution_count": 7,
   "id": "77fbe8dd",
   "metadata": {},
   "outputs": [
    {
     "data": {
      "text/plain": [
       "0                                                        0\n",
       "Project                                                  0\n",
       "Sector                                                  11\n",
       "MW                                                       0\n",
       "Zero Date                                                0\n",
       "                                                        ..\n",
       "COMMERCIAL OPERATION DECLARATION_Schedule_Exp/Actual    29\n",
       "TRIAL OPERATION COMPLETION_Schedule                      1\n",
       "TRIAL OPERATION COMPLETION_Schedule_Exp/Actual          34\n",
       "HAND OVER_Schedule                                       8\n",
       "HAND OVER_Schedule_Exp/Actual                           27\n",
       "Length: 63, dtype: int64"
      ]
     },
     "execution_count": 7,
     "metadata": {},
     "output_type": "execute_result"
    }
   ],
   "source": [
    "data.isnull().sum()"
   ]
  },
  {
   "cell_type": "code",
   "execution_count": 8,
   "id": "6cfbf569",
   "metadata": {},
   "outputs": [],
   "source": [
    "#  df= data.replace(null,na)"
   ]
  },
  {
   "cell_type": "code",
   "execution_count": 9,
   "id": "4d730c52",
   "metadata": {},
   "outputs": [],
   "source": [
    "# df.dropna()"
   ]
  },
  {
   "cell_type": "code",
   "execution_count": 10,
   "id": "63dd465d",
   "metadata": {},
   "outputs": [],
   "source": [
    "#data.isnull().sum()"
   ]
  },
  {
   "cell_type": "code",
   "execution_count": 11,
   "id": "87eaa6b9",
   "metadata": {},
   "outputs": [
    {
     "data": {
      "text/plain": [
       "Index(['0', 'Project', 'Sector', 'MW', 'Zero Date', 'State', 'Scope', 'Region',\n",
       "       'Customer', 'PROJECT START_Schedule',\n",
       "       'PROJECT START_Schedule_Exp/Actual', 'SITE OPENING_Schedule',\n",
       "       'SITE OPENING_Schedule_Exp/Actual', 'CVL START_Schedule',\n",
       "       'CVL START_Schedule_Exp/Actual', 'BOILER ERECTION START_Schedule',\n",
       "       'BOILER ERECTION START_Schedule_Exp/Actual', 'DRUM LIFTING_Schedule',\n",
       "       'DRUM LIFTING_Schedule_Exp/Actual',\n",
       "       'CEILING GIRDER/SEPERATOR ERECTION COMPLETION_Schedule',\n",
       "       'CEILING GIRDER/SEPERATOR ERECTION COMPLETION_Schedule_Exp/Actual',\n",
       "       'HYDRAULIC TEST_Schedule', 'HYDRAULIC TEST_Schedule_Exp/Actual',\n",
       "       'BOILER LIGHT UP_Schedule', 'BOILER LIGHT UP_Schedule_Exp/Actual',\n",
       "       'ALKALI BOIL OUT COMPLETION_Schedule',\n",
       "       'ALKALI BOIL OUT COMPLETION_Schedule_Exp/Actual', 'EDTA START_Schedule',\n",
       "       'EDTA START_Schedule_Exp/Actual', 'EDTA COMPLETION_Schedule',\n",
       "       'EDTA COMPLETION_Schedule_Exp/Actual', 'STEAM BLOWING START_Schedule',\n",
       "       'STEAM BLOWING START_Schedule_Exp/Actual',\n",
       "       'STEAM BLOWING COMPLETION_Schedule',\n",
       "       'STEAM BLOWING COMPLETION_Schedule_Exp/Actual',\n",
       "       'NORMALIZATION_Schedule', 'NORMALIZATION_Schedule_Exp/Actual',\n",
       "       'CONDENSER ERECTION START_Schedule',\n",
       "       'CONDENSER ERECTION START_Schedule_Exp/Actual',\n",
       "       'TURBINE ERECTION START_Schedule',\n",
       "       'TURBINE ERECTION START_Schedule_Exp/Actual', 'TG BOX UP_Schedule',\n",
       "       'TG BOX UP_Schedule_Exp/Actual', 'OIL FLUSHING START_Schedule',\n",
       "       'OIL FLUSHING START_Schedule_Exp/Actual',\n",
       "       'OIL FLUSHING COMPLETION_Schedule',\n",
       "       'OIL FLUSHING COMPLETION_Schedule_Exp/Actual', 'BARRING GEAR_Schedule',\n",
       "       'BARRING GEAR_Schedule_Exp/Actual', 'ROLLING_Schedule',\n",
       "       'ROLLING_Schedule_Exp/Actual', 'SYNCHRONISATION_Schedule',\n",
       "       'SYNCHRONISATION_Schedule_Exp/Actual', 'FULL LOAD_Schedule',\n",
       "       'FULL LOAD_Schedule_Exp/Actual', 'CAPACITY ADDITION_Schedule',\n",
       "       'CAPACITY ADDITION_Schedule_Exp/Actual',\n",
       "       'COMMERCIAL OPERATION DECLARATION_Schedule',\n",
       "       'COMMERCIAL OPERATION DECLARATION_Schedule_Exp/Actual',\n",
       "       'TRIAL OPERATION COMPLETION_Schedule',\n",
       "       'TRIAL OPERATION COMPLETION_Schedule_Exp/Actual', 'HAND OVER_Schedule',\n",
       "       'HAND OVER_Schedule_Exp/Actual'],\n",
       "      dtype='object')"
      ]
     },
     "execution_count": 11,
     "metadata": {},
     "output_type": "execute_result"
    }
   ],
   "source": [
    "data.columns"
   ]
  },
  {
   "cell_type": "code",
   "execution_count": 12,
   "id": "d1a52477",
   "metadata": {},
   "outputs": [
    {
     "data": {
      "text/plain": [
       "250    53\n",
       "500    51\n",
       "270    33\n",
       "660    28\n",
       "600    21\n",
       "800    21\n",
       "0      16\n",
       "210     7\n",
       "125     6\n",
       "525     5\n",
       "195     3\n",
       "490     2\n",
       "520     2\n",
       "700     1\n",
       "300     1\n",
       "Name: MW, dtype: int64"
      ]
     },
     "execution_count": 12,
     "metadata": {},
     "output_type": "execute_result"
    }
   ],
   "source": [
    "data['MW'].value_counts()"
   ]
  },
  {
   "cell_type": "code",
   "execution_count": 13,
   "id": "d76895be",
   "metadata": {},
   "outputs": [
    {
     "data": {
      "text/plain": [
       "BTG                                                  134\n",
       "EPC                                                   64\n",
       "BTG + CIVIL                                           15\n",
       "ESP PACKAGE ONLY                                       6\n",
       "SG WITH ESP                                            5\n",
       "BTG & ITS CIVIL WORKS                                  3\n",
       "TG                                                     3\n",
       "PCP                                                    2\n",
       "SG PKG + ASSCIATED CIVIL                               2\n",
       "BTG + CIVIL+CHP+AHP+MRS                                2\n",
       "BTG + CIVIL+SWITCHYARD                                 2\n",
       "BTG+CIVIL                                              2\n",
       "EPC EXCEPT SWITCH YARD, CHP & WATER SYSTEM             2\n",
       "SG                                                     2\n",
       "BTG + ELECTRICS + SWITCHYARD + ENGG. OF BOP PKGS.      1\n",
       "PCP                                                    1\n",
       "EPC INCLUDING FGD & SCR EXCLUDING SWITCHYARD           1\n",
       "TG PKG                                                 1\n",
       "BTG+ SWITCHYARD WITH CIVIL                             1\n",
       "Name: Scope, dtype: int64"
      ]
     },
     "execution_count": 13,
     "metadata": {},
     "output_type": "execute_result"
    }
   ],
   "source": [
    "data['Scope'].value_counts()"
   ]
  },
  {
   "cell_type": "code",
   "execution_count": 14,
   "id": "7838b747",
   "metadata": {},
   "outputs": [
    {
     "data": {
      "text/plain": [
       "count     249\n",
       "unique     19\n",
       "top       BTG\n",
       "freq      134\n",
       "Name: Scope, dtype: object"
      ]
     },
     "execution_count": 14,
     "metadata": {},
     "output_type": "execute_result"
    }
   ],
   "source": [
    "data['Scope'].describe()"
   ]
  },
  {
   "cell_type": "code",
   "execution_count": 15,
   "id": "22fd16b9",
   "metadata": {},
   "outputs": [],
   "source": [
    "n=data['Scope']"
   ]
  },
  {
   "cell_type": "code",
   "execution_count": 16,
   "id": "69a6f8a3",
   "metadata": {},
   "outputs": [],
   "source": [
    "n= np.asarray(n)"
   ]
  },
  {
   "cell_type": "code",
   "execution_count": 17,
   "id": "764dc2fc",
   "metadata": {},
   "outputs": [],
   "source": [
    "#n.describe()"
   ]
  },
  {
   "cell_type": "code",
   "execution_count": 18,
   "id": "7eda2bb6",
   "metadata": {},
   "outputs": [],
   "source": [
    "#n.value_counts()"
   ]
  },
  {
   "cell_type": "code",
   "execution_count": 19,
   "id": "259b3d5c",
   "metadata": {},
   "outputs": [],
   "source": [
    "# d= pd.DataFrame(data, columns=['Scope'])"
   ]
  },
  {
   "cell_type": "code",
   "execution_count": 20,
   "id": "fc508b47",
   "metadata": {},
   "outputs": [],
   "source": [
    "# d.drop_duplicates()"
   ]
  },
  {
   "cell_type": "code",
   "execution_count": 21,
   "id": "1922c83f",
   "metadata": {},
   "outputs": [],
   "source": [
    "data['Scope']= data['Scope'].replace({'BTG':0,'EPC':1,'BTG + CIVIL':2,'ESP PACKAGE ONLY':3,'SG WITH ESP':4,'TG':5,'BTG & ITS CIVIL WORKS':6,'EPC EXCEPT SWITCH YARD, CHP & WATER SYSTEM':7, 'BTG+CIVIL':8, 'BTG + CIVIL+SWITCHYARD':9,'BTG + CIVIL+CHP+AHP+MRS':10, 'PCP ':11, 'SG PKG + ASSCIATED CIVIL':12,'PCP':13,'BTG + ELECTRICS + SWITCHYARD + ENGG. OF BOP PKGS.':14,'SG':15,'EPC INCLUDING FGD & SCR EXCLUDING SWITCHYARD':16, 'TG PKG':17, 'BTG+ SWITCHYARD WITH CIVIL':18})\n"
   ]
  },
  {
   "cell_type": "code",
   "execution_count": 22,
   "id": "b266fe3e",
   "metadata": {},
   "outputs": [
    {
     "data": {
      "text/plain": [
       "0.0     134\n",
       "1.0      64\n",
       "2.0      15\n",
       "3.0       6\n",
       "4.0       5\n",
       "6.0       3\n",
       "5.0       3\n",
       "13.0      2\n",
       "12.0      2\n",
       "10.0      2\n",
       "9.0       2\n",
       "8.0       2\n",
       "7.0       2\n",
       "15.0      2\n",
       "14.0      1\n",
       "11.0      1\n",
       "16.0      1\n",
       "17.0      1\n",
       "18.0      1\n",
       "Name: Scope, dtype: int64"
      ]
     },
     "execution_count": 22,
     "metadata": {},
     "output_type": "execute_result"
    }
   ],
   "source": [
    "data.Scope.value_counts()"
   ]
  },
  {
   "cell_type": "code",
   "execution_count": 23,
   "id": "f925eb7b",
   "metadata": {},
   "outputs": [],
   "source": [
    "z=data.State.unique()"
   ]
  },
  {
   "cell_type": "code",
   "execution_count": 24,
   "id": "115b9ae8",
   "metadata": {},
   "outputs": [],
   "source": [
    "# for item in z:\n",
    " #   data['State']=item"
   ]
  },
  {
   "cell_type": "code",
   "execution_count": 25,
   "id": "e1bf1caf",
   "metadata": {},
   "outputs": [],
   "source": [
    "# data['State']"
   ]
  },
  {
   "cell_type": "code",
   "execution_count": 26,
   "id": "d6b403e4",
   "metadata": {},
   "outputs": [
    {
     "data": {
      "text/plain": [
       "array(['WEST BENGAL', 'RAJASTHAN', 'CHHATTISGARH', 'MAHARASHTRA',\n",
       "       'MADHYA PRADESH', 'CHATTISGARH', 'ANDHRA PRADESH', nan, 'PUNJAB',\n",
       "       'BIHAR', 'MAHARASTRA', 'WEST BANGAL', 'AHDHRA PRADESH',\n",
       "       'JHARKHAND', 'UTTAR PRADESH', 'GUJARAT', 'KARNATAKA', 'HARYANA',\n",
       "       'TAMILNADU', 'ORISSA', 'ASSAM', 'UTTAR PRADESH ', 'TELANGANA',\n",
       "       'CHHATISHGARH', 'ODISHA', 'RAJSTHAN', 'TAMIL NADU'], dtype=object)"
      ]
     },
     "execution_count": 26,
     "metadata": {},
     "output_type": "execute_result"
    }
   ],
   "source": [
    "z"
   ]
  },
  {
   "cell_type": "code",
   "execution_count": 27,
   "id": "fbbff7dd",
   "metadata": {},
   "outputs": [],
   "source": [
    "data['State']=data['State'].replace({'WEST BENGAL':0, 'RAJASTHAN':1, 'CHHATTISGARH':2, 'MAHARASHTRA':3,\n",
    "       'MADHYA PRADESH':4, 'CHATTISGARH':5, 'ANDHRA PRADESH':6,'PUNJAB':7,\n",
    "       'BIHAR':8, 'MAHARASTRA':9, 'WEST BANGAL':10, 'AHDHRA PRADESH':11,\n",
    "       'JHARKHAND':12, 'UTTAR PRADESH':13, 'GUJARAT':14, 'KARNATAKA':15, 'HARYANA':16,\n",
    "       'TAMILNADU':17, 'ORISSA':18, 'ASSAM':19, 'UTTAR PRADESH ':20, 'TELANGANA':21,\n",
    "       'CHHATISHGARH':22, 'ODISHA':23, 'RAJSTHAN':24, 'TAMIL NADU':25})"
   ]
  },
  {
   "cell_type": "code",
   "execution_count": 28,
   "id": "836e07b5",
   "metadata": {},
   "outputs": [
    {
     "data": {
      "text/html": [
       "<div>\n",
       "<style scoped>\n",
       "    .dataframe tbody tr th:only-of-type {\n",
       "        vertical-align: middle;\n",
       "    }\n",
       "\n",
       "    .dataframe tbody tr th {\n",
       "        vertical-align: top;\n",
       "    }\n",
       "\n",
       "    .dataframe thead th {\n",
       "        text-align: right;\n",
       "    }\n",
       "</style>\n",
       "<table border=\"1\" class=\"dataframe\">\n",
       "  <thead>\n",
       "    <tr style=\"text-align: right;\">\n",
       "      <th></th>\n",
       "      <th>0</th>\n",
       "      <th>Project</th>\n",
       "      <th>Sector</th>\n",
       "      <th>MW</th>\n",
       "      <th>Zero Date</th>\n",
       "      <th>State</th>\n",
       "      <th>Scope</th>\n",
       "      <th>Region</th>\n",
       "      <th>Customer</th>\n",
       "      <th>PROJECT START_Schedule</th>\n",
       "      <th>...</th>\n",
       "      <th>FULL LOAD_Schedule</th>\n",
       "      <th>FULL LOAD_Schedule_Exp/Actual</th>\n",
       "      <th>CAPACITY ADDITION_Schedule</th>\n",
       "      <th>CAPACITY ADDITION_Schedule_Exp/Actual</th>\n",
       "      <th>COMMERCIAL OPERATION DECLARATION_Schedule</th>\n",
       "      <th>COMMERCIAL OPERATION DECLARATION_Schedule_Exp/Actual</th>\n",
       "      <th>TRIAL OPERATION COMPLETION_Schedule</th>\n",
       "      <th>TRIAL OPERATION COMPLETION_Schedule_Exp/Actual</th>\n",
       "      <th>HAND OVER_Schedule</th>\n",
       "      <th>HAND OVER_Schedule_Exp/Actual</th>\n",
       "    </tr>\n",
       "  </thead>\n",
       "  <tbody>\n",
       "    <tr>\n",
       "      <th>0</th>\n",
       "      <td>1</td>\n",
       "      <td>MEJIA UNIT-5 (2 X 250 MW)</td>\n",
       "      <td>CENTRAL</td>\n",
       "      <td>250</td>\n",
       "      <td>15-06-2004</td>\n",
       "      <td>0.0</td>\n",
       "      <td>1.0</td>\n",
       "      <td>0</td>\n",
       "      <td>DVC</td>\n",
       "      <td>N.A.</td>\n",
       "      <td>...</td>\n",
       "      <td>N.A.</td>\n",
       "      <td>N.A.</td>\n",
       "      <td>N.A.</td>\n",
       "      <td>N.A.</td>\n",
       "      <td>12-01-2007</td>\n",
       "      <td>29-02-2008</td>\n",
       "      <td>12-01-2007</td>\n",
       "      <td>29-02-2008</td>\n",
       "      <td>12-01-2007</td>\n",
       "      <td>29-02-2008</td>\n",
       "    </tr>\n",
       "    <tr>\n",
       "      <th>1</th>\n",
       "      <td>2</td>\n",
       "      <td>GIRAL UNIT-1 (2X125 MW)</td>\n",
       "      <td>STATE</td>\n",
       "      <td>125</td>\n",
       "      <td>08-10-2003</td>\n",
       "      <td>1.0</td>\n",
       "      <td>0.0</td>\n",
       "      <td>2</td>\n",
       "      <td>RRVUNL</td>\n",
       "      <td>N.A.</td>\n",
       "      <td>...</td>\n",
       "      <td>09-06-2006</td>\n",
       "      <td>14-09-2007</td>\n",
       "      <td>N.A.</td>\n",
       "      <td>N.A.</td>\n",
       "      <td>23-06-2006</td>\n",
       "      <td>18-10-2011</td>\n",
       "      <td>23-06-2006</td>\n",
       "      <td>18-10-2011</td>\n",
       "      <td>N.A.</td>\n",
       "      <td>N.A.</td>\n",
       "    </tr>\n",
       "    <tr>\n",
       "      <th>2</th>\n",
       "      <td>3</td>\n",
       "      <td>KORBA EAST UNIT-1 (2 X 250 MW)</td>\n",
       "      <td>STATE</td>\n",
       "      <td>250</td>\n",
       "      <td>28-04-2004</td>\n",
       "      <td>2.0</td>\n",
       "      <td>0.0</td>\n",
       "      <td>0</td>\n",
       "      <td>CSEB</td>\n",
       "      <td>N.A.</td>\n",
       "      <td>...</td>\n",
       "      <td>N.A.</td>\n",
       "      <td>N.A.</td>\n",
       "      <td>N.A.</td>\n",
       "      <td>N.A.</td>\n",
       "      <td>28-03-2007</td>\n",
       "      <td>14-12-2007</td>\n",
       "      <td>28-03-2007</td>\n",
       "      <td>27-01-2008</td>\n",
       "      <td>28-03-2007</td>\n",
       "      <td>27-01-2008</td>\n",
       "    </tr>\n",
       "    <tr>\n",
       "      <th>3</th>\n",
       "      <td>4</td>\n",
       "      <td>PARAS UNIT-1 (1X250 MW)</td>\n",
       "      <td>STATE</td>\n",
       "      <td>250</td>\n",
       "      <td>25-05-2004</td>\n",
       "      <td>3.0</td>\n",
       "      <td>0.0</td>\n",
       "      <td>1</td>\n",
       "      <td>MAHAGENCO</td>\n",
       "      <td>N.A.</td>\n",
       "      <td>...</td>\n",
       "      <td>N.A.</td>\n",
       "      <td>N.A.</td>\n",
       "      <td>N.A.</td>\n",
       "      <td>N.A.</td>\n",
       "      <td>25-01-2007</td>\n",
       "      <td>31-03-2008</td>\n",
       "      <td>25-01-2007</td>\n",
       "      <td>27-01-2008</td>\n",
       "      <td>N.A.</td>\n",
       "      <td>N.A.</td>\n",
       "    </tr>\n",
       "    <tr>\n",
       "      <th>4</th>\n",
       "      <td>5</td>\n",
       "      <td>BIRSINGPUR (SANJAY GANDHI) TPS EXTN UNIT-5 (1X...</td>\n",
       "      <td>STATE</td>\n",
       "      <td>500</td>\n",
       "      <td>27-06-2003</td>\n",
       "      <td>4.0</td>\n",
       "      <td>1.0</td>\n",
       "      <td>1</td>\n",
       "      <td>MPEB</td>\n",
       "      <td>N.A.</td>\n",
       "      <td>...</td>\n",
       "      <td>N.A.</td>\n",
       "      <td>N.A.</td>\n",
       "      <td>N.A.</td>\n",
       "      <td>N.A.</td>\n",
       "      <td>26-12-2006</td>\n",
       "      <td>27-08-2008</td>\n",
       "      <td>26-12-2006</td>\n",
       "      <td>27-08-2008</td>\n",
       "      <td>N.A.</td>\n",
       "      <td>N.A.</td>\n",
       "    </tr>\n",
       "  </tbody>\n",
       "</table>\n",
       "<p>5 rows × 63 columns</p>\n",
       "</div>"
      ],
      "text/plain": [
       "   0                                            Project   Sector   MW  \\\n",
       "0  1                         MEJIA UNIT-5 (2 X 250 MW)   CENTRAL  250   \n",
       "1  2                            GIRAL UNIT-1 (2X125 MW)    STATE  125   \n",
       "2  3                     KORBA EAST UNIT-1 (2 X 250 MW)    STATE  250   \n",
       "3  4                           PARAS UNIT-1 (1X250 MW)     STATE  250   \n",
       "4  5  BIRSINGPUR (SANJAY GANDHI) TPS EXTN UNIT-5 (1X...    STATE  500   \n",
       "\n",
       "    Zero Date  State  Scope  Region   Customer PROJECT START_Schedule  ...  \\\n",
       "0  15-06-2004    0.0    1.0       0        DVC                   N.A.  ...   \n",
       "1  08-10-2003    1.0    0.0       2     RRVUNL                   N.A.  ...   \n",
       "2  28-04-2004    2.0    0.0       0       CSEB                   N.A.  ...   \n",
       "3  25-05-2004    3.0    0.0       1  MAHAGENCO                   N.A.  ...   \n",
       "4  27-06-2003    4.0    1.0       1       MPEB                   N.A.  ...   \n",
       "\n",
       "  FULL LOAD_Schedule FULL LOAD_Schedule_Exp/Actual CAPACITY ADDITION_Schedule  \\\n",
       "0               N.A.                          N.A.                       N.A.   \n",
       "1         09-06-2006                    14-09-2007                       N.A.   \n",
       "2               N.A.                          N.A.                       N.A.   \n",
       "3               N.A.                          N.A.                       N.A.   \n",
       "4               N.A.                          N.A.                       N.A.   \n",
       "\n",
       "  CAPACITY ADDITION_Schedule_Exp/Actual  \\\n",
       "0                                  N.A.   \n",
       "1                                  N.A.   \n",
       "2                                  N.A.   \n",
       "3                                  N.A.   \n",
       "4                                  N.A.   \n",
       "\n",
       "  COMMERCIAL OPERATION DECLARATION_Schedule  \\\n",
       "0                                12-01-2007   \n",
       "1                                23-06-2006   \n",
       "2                                28-03-2007   \n",
       "3                                25-01-2007   \n",
       "4                                26-12-2006   \n",
       "\n",
       "  COMMERCIAL OPERATION DECLARATION_Schedule_Exp/Actual  \\\n",
       "0                                         29-02-2008     \n",
       "1                                         18-10-2011     \n",
       "2                                         14-12-2007     \n",
       "3                                         31-03-2008     \n",
       "4                                         27-08-2008     \n",
       "\n",
       "  TRIAL OPERATION COMPLETION_Schedule  \\\n",
       "0                          12-01-2007   \n",
       "1                          23-06-2006   \n",
       "2                          28-03-2007   \n",
       "3                          25-01-2007   \n",
       "4                          26-12-2006   \n",
       "\n",
       "  TRIAL OPERATION COMPLETION_Schedule_Exp/Actual HAND OVER_Schedule  \\\n",
       "0                                     29-02-2008         12-01-2007   \n",
       "1                                     18-10-2011               N.A.   \n",
       "2                                     27-01-2008         28-03-2007   \n",
       "3                                     27-01-2008               N.A.   \n",
       "4                                     27-08-2008               N.A.   \n",
       "\n",
       "  HAND OVER_Schedule_Exp/Actual  \n",
       "0                    29-02-2008  \n",
       "1                          N.A.  \n",
       "2                    27-01-2008  \n",
       "3                          N.A.  \n",
       "4                          N.A.  \n",
       "\n",
       "[5 rows x 63 columns]"
      ]
     },
     "execution_count": 28,
     "metadata": {},
     "output_type": "execute_result"
    }
   ],
   "source": [
    "data.head()"
   ]
  },
  {
   "cell_type": "code",
   "execution_count": 29,
   "id": "65c7852c",
   "metadata": {},
   "outputs": [],
   "source": [
    "z1= data.Scope.unique()"
   ]
  },
  {
   "cell_type": "code",
   "execution_count": 30,
   "id": "7c23e4f5",
   "metadata": {},
   "outputs": [
    {
     "data": {
      "text/plain": [
       "array([ 1.,  0., nan,  2., 15.,  7.,  8.,  9., 10., 14., 18.,  3.,  4.,\n",
       "       11., 13., 16.,  5., 17.,  6., 12.])"
      ]
     },
     "execution_count": 30,
     "metadata": {},
     "output_type": "execute_result"
    }
   ],
   "source": [
    "z1"
   ]
  },
  {
   "cell_type": "code",
   "execution_count": 31,
   "id": "0671632c",
   "metadata": {},
   "outputs": [],
   "source": [
    "data['Scope']= data['Scope'].replace({'EPC':0, 'BTG':1,'BTG + CIVIL':2, 'SG':3,\n",
    "       'EPC EXCEPT SWITCH YARD':4, 'CHP & WATER SYSTEM':5, 'BTG+CIVIL':6,\n",
    "       'BTG + CIVIL+SWITCHYARD':7, 'BTG + CIVIL+CHP+AHP+MRS':8,\n",
    "       'BTG + ELECTRICS + SWITCHYARD':9, 'ENGG. OF BOP PKGS.':10,\n",
    "       'BTG+ SWITCHYARD WITH CIVIL':11, 'ESP PACKAGE ONLY':12,\n",
    "       'BTG':13, 'POWER HOUSE STRUCTURE AND BTG ISLAND BOP':14, 'SG WITH ESP':15,\n",
    "       'PCP ':15, 'PCP':17, 'EPC INCLUDING FGD & SCR EXCLUDING SWITCHYARD':18,\n",
    "       'TG':19, 'TG PKG':20, 'BTG & ITS CIVIL WORKS':21,\n",
    "       'SG PKG + ASSCIATED CIVIL':22})"
   ]
  },
  {
   "cell_type": "code",
   "execution_count": 32,
   "id": "2da9bf44",
   "metadata": {},
   "outputs": [
    {
     "data": {
      "text/html": [
       "<div>\n",
       "<style scoped>\n",
       "    .dataframe tbody tr th:only-of-type {\n",
       "        vertical-align: middle;\n",
       "    }\n",
       "\n",
       "    .dataframe tbody tr th {\n",
       "        vertical-align: top;\n",
       "    }\n",
       "\n",
       "    .dataframe thead th {\n",
       "        text-align: right;\n",
       "    }\n",
       "</style>\n",
       "<table border=\"1\" class=\"dataframe\">\n",
       "  <thead>\n",
       "    <tr style=\"text-align: right;\">\n",
       "      <th></th>\n",
       "      <th>0</th>\n",
       "      <th>Project</th>\n",
       "      <th>Sector</th>\n",
       "      <th>MW</th>\n",
       "      <th>Zero Date</th>\n",
       "      <th>State</th>\n",
       "      <th>Scope</th>\n",
       "      <th>Region</th>\n",
       "      <th>Customer</th>\n",
       "      <th>PROJECT START_Schedule</th>\n",
       "      <th>...</th>\n",
       "      <th>FULL LOAD_Schedule</th>\n",
       "      <th>FULL LOAD_Schedule_Exp/Actual</th>\n",
       "      <th>CAPACITY ADDITION_Schedule</th>\n",
       "      <th>CAPACITY ADDITION_Schedule_Exp/Actual</th>\n",
       "      <th>COMMERCIAL OPERATION DECLARATION_Schedule</th>\n",
       "      <th>COMMERCIAL OPERATION DECLARATION_Schedule_Exp/Actual</th>\n",
       "      <th>TRIAL OPERATION COMPLETION_Schedule</th>\n",
       "      <th>TRIAL OPERATION COMPLETION_Schedule_Exp/Actual</th>\n",
       "      <th>HAND OVER_Schedule</th>\n",
       "      <th>HAND OVER_Schedule_Exp/Actual</th>\n",
       "    </tr>\n",
       "  </thead>\n",
       "  <tbody>\n",
       "    <tr>\n",
       "      <th>0</th>\n",
       "      <td>1</td>\n",
       "      <td>MEJIA UNIT-5 (2 X 250 MW)</td>\n",
       "      <td>CENTRAL</td>\n",
       "      <td>250</td>\n",
       "      <td>15-06-2004</td>\n",
       "      <td>0.0</td>\n",
       "      <td>1.0</td>\n",
       "      <td>0</td>\n",
       "      <td>DVC</td>\n",
       "      <td>N.A.</td>\n",
       "      <td>...</td>\n",
       "      <td>N.A.</td>\n",
       "      <td>N.A.</td>\n",
       "      <td>N.A.</td>\n",
       "      <td>N.A.</td>\n",
       "      <td>12-01-2007</td>\n",
       "      <td>29-02-2008</td>\n",
       "      <td>12-01-2007</td>\n",
       "      <td>29-02-2008</td>\n",
       "      <td>12-01-2007</td>\n",
       "      <td>29-02-2008</td>\n",
       "    </tr>\n",
       "    <tr>\n",
       "      <th>1</th>\n",
       "      <td>2</td>\n",
       "      <td>GIRAL UNIT-1 (2X125 MW)</td>\n",
       "      <td>STATE</td>\n",
       "      <td>125</td>\n",
       "      <td>08-10-2003</td>\n",
       "      <td>1.0</td>\n",
       "      <td>0.0</td>\n",
       "      <td>2</td>\n",
       "      <td>RRVUNL</td>\n",
       "      <td>N.A.</td>\n",
       "      <td>...</td>\n",
       "      <td>09-06-2006</td>\n",
       "      <td>14-09-2007</td>\n",
       "      <td>N.A.</td>\n",
       "      <td>N.A.</td>\n",
       "      <td>23-06-2006</td>\n",
       "      <td>18-10-2011</td>\n",
       "      <td>23-06-2006</td>\n",
       "      <td>18-10-2011</td>\n",
       "      <td>N.A.</td>\n",
       "      <td>N.A.</td>\n",
       "    </tr>\n",
       "    <tr>\n",
       "      <th>2</th>\n",
       "      <td>3</td>\n",
       "      <td>KORBA EAST UNIT-1 (2 X 250 MW)</td>\n",
       "      <td>STATE</td>\n",
       "      <td>250</td>\n",
       "      <td>28-04-2004</td>\n",
       "      <td>2.0</td>\n",
       "      <td>0.0</td>\n",
       "      <td>0</td>\n",
       "      <td>CSEB</td>\n",
       "      <td>N.A.</td>\n",
       "      <td>...</td>\n",
       "      <td>N.A.</td>\n",
       "      <td>N.A.</td>\n",
       "      <td>N.A.</td>\n",
       "      <td>N.A.</td>\n",
       "      <td>28-03-2007</td>\n",
       "      <td>14-12-2007</td>\n",
       "      <td>28-03-2007</td>\n",
       "      <td>27-01-2008</td>\n",
       "      <td>28-03-2007</td>\n",
       "      <td>27-01-2008</td>\n",
       "    </tr>\n",
       "    <tr>\n",
       "      <th>3</th>\n",
       "      <td>4</td>\n",
       "      <td>PARAS UNIT-1 (1X250 MW)</td>\n",
       "      <td>STATE</td>\n",
       "      <td>250</td>\n",
       "      <td>25-05-2004</td>\n",
       "      <td>3.0</td>\n",
       "      <td>0.0</td>\n",
       "      <td>1</td>\n",
       "      <td>MAHAGENCO</td>\n",
       "      <td>N.A.</td>\n",
       "      <td>...</td>\n",
       "      <td>N.A.</td>\n",
       "      <td>N.A.</td>\n",
       "      <td>N.A.</td>\n",
       "      <td>N.A.</td>\n",
       "      <td>25-01-2007</td>\n",
       "      <td>31-03-2008</td>\n",
       "      <td>25-01-2007</td>\n",
       "      <td>27-01-2008</td>\n",
       "      <td>N.A.</td>\n",
       "      <td>N.A.</td>\n",
       "    </tr>\n",
       "    <tr>\n",
       "      <th>4</th>\n",
       "      <td>5</td>\n",
       "      <td>BIRSINGPUR (SANJAY GANDHI) TPS EXTN UNIT-5 (1X...</td>\n",
       "      <td>STATE</td>\n",
       "      <td>500</td>\n",
       "      <td>27-06-2003</td>\n",
       "      <td>4.0</td>\n",
       "      <td>1.0</td>\n",
       "      <td>1</td>\n",
       "      <td>MPEB</td>\n",
       "      <td>N.A.</td>\n",
       "      <td>...</td>\n",
       "      <td>N.A.</td>\n",
       "      <td>N.A.</td>\n",
       "      <td>N.A.</td>\n",
       "      <td>N.A.</td>\n",
       "      <td>26-12-2006</td>\n",
       "      <td>27-08-2008</td>\n",
       "      <td>26-12-2006</td>\n",
       "      <td>27-08-2008</td>\n",
       "      <td>N.A.</td>\n",
       "      <td>N.A.</td>\n",
       "    </tr>\n",
       "  </tbody>\n",
       "</table>\n",
       "<p>5 rows × 63 columns</p>\n",
       "</div>"
      ],
      "text/plain": [
       "   0                                            Project   Sector   MW  \\\n",
       "0  1                         MEJIA UNIT-5 (2 X 250 MW)   CENTRAL  250   \n",
       "1  2                            GIRAL UNIT-1 (2X125 MW)    STATE  125   \n",
       "2  3                     KORBA EAST UNIT-1 (2 X 250 MW)    STATE  250   \n",
       "3  4                           PARAS UNIT-1 (1X250 MW)     STATE  250   \n",
       "4  5  BIRSINGPUR (SANJAY GANDHI) TPS EXTN UNIT-5 (1X...    STATE  500   \n",
       "\n",
       "    Zero Date  State  Scope  Region   Customer PROJECT START_Schedule  ...  \\\n",
       "0  15-06-2004    0.0    1.0       0        DVC                   N.A.  ...   \n",
       "1  08-10-2003    1.0    0.0       2     RRVUNL                   N.A.  ...   \n",
       "2  28-04-2004    2.0    0.0       0       CSEB                   N.A.  ...   \n",
       "3  25-05-2004    3.0    0.0       1  MAHAGENCO                   N.A.  ...   \n",
       "4  27-06-2003    4.0    1.0       1       MPEB                   N.A.  ...   \n",
       "\n",
       "  FULL LOAD_Schedule FULL LOAD_Schedule_Exp/Actual CAPACITY ADDITION_Schedule  \\\n",
       "0               N.A.                          N.A.                       N.A.   \n",
       "1         09-06-2006                    14-09-2007                       N.A.   \n",
       "2               N.A.                          N.A.                       N.A.   \n",
       "3               N.A.                          N.A.                       N.A.   \n",
       "4               N.A.                          N.A.                       N.A.   \n",
       "\n",
       "  CAPACITY ADDITION_Schedule_Exp/Actual  \\\n",
       "0                                  N.A.   \n",
       "1                                  N.A.   \n",
       "2                                  N.A.   \n",
       "3                                  N.A.   \n",
       "4                                  N.A.   \n",
       "\n",
       "  COMMERCIAL OPERATION DECLARATION_Schedule  \\\n",
       "0                                12-01-2007   \n",
       "1                                23-06-2006   \n",
       "2                                28-03-2007   \n",
       "3                                25-01-2007   \n",
       "4                                26-12-2006   \n",
       "\n",
       "  COMMERCIAL OPERATION DECLARATION_Schedule_Exp/Actual  \\\n",
       "0                                         29-02-2008     \n",
       "1                                         18-10-2011     \n",
       "2                                         14-12-2007     \n",
       "3                                         31-03-2008     \n",
       "4                                         27-08-2008     \n",
       "\n",
       "  TRIAL OPERATION COMPLETION_Schedule  \\\n",
       "0                          12-01-2007   \n",
       "1                          23-06-2006   \n",
       "2                          28-03-2007   \n",
       "3                          25-01-2007   \n",
       "4                          26-12-2006   \n",
       "\n",
       "  TRIAL OPERATION COMPLETION_Schedule_Exp/Actual HAND OVER_Schedule  \\\n",
       "0                                     29-02-2008         12-01-2007   \n",
       "1                                     18-10-2011               N.A.   \n",
       "2                                     27-01-2008         28-03-2007   \n",
       "3                                     27-01-2008               N.A.   \n",
       "4                                     27-08-2008               N.A.   \n",
       "\n",
       "  HAND OVER_Schedule_Exp/Actual  \n",
       "0                    29-02-2008  \n",
       "1                          N.A.  \n",
       "2                    27-01-2008  \n",
       "3                          N.A.  \n",
       "4                          N.A.  \n",
       "\n",
       "[5 rows x 63 columns]"
      ]
     },
     "execution_count": 32,
     "metadata": {},
     "output_type": "execute_result"
    }
   ],
   "source": [
    "data.head()"
   ]
  },
  {
   "cell_type": "code",
   "execution_count": 33,
   "id": "de47d51b",
   "metadata": {},
   "outputs": [
    {
     "data": {
      "text/plain": [
       "array(['DVC', 'RRVUNL', 'CSEB', 'MAHAGENCO', 'MPEB', 'NTPC',\n",
       "       'JINDAL POWER LIMITED , NEW DELHI', 'WBPDCL', 'APGENCO', 'KPCL',\n",
       "       'PSEB', 'NSPCL', 'MPPGCL', 'TATA POWER', 'CESC', 'MSPGCL', 'GIPCL',\n",
       "       'APGENCO ', 'NLC', 'APCPL/NTPC', 'MAITHON POWER LIMITED',\n",
       "       'UPRVUNL', 'NTECL', 'BPSCL', 'APNRL',\n",
       "       'NTECL (NTPC TAMILNADU ENERGY COMPANY LIMITED)', 'GSECL',\n",
       "       'TANGEDCO', 'IEPL', 'CSPGCL', 'INDIA BULLS', 'D.B. POWER LTD.',\n",
       "       'J P L , NEW DELHI', 'DPL',\n",
       "       'KORBA WEST POWER COMPANY LIMITED (KWPCL)(AVANTHA)',\n",
       "       'JINDAL INDIA THERMAL POWER LTD', 'NTPL',\n",
       "       'KANTI BIJALI UTPADAN NIGAM LTD', 'APGENCO/ APPDCL',\n",
       "       'HINDUJA NATIONAL POWER CORPORATION LTD (HNPCL)',\n",
       "       'PPGCL,(JP ASSOCIATES)',\n",
       "       'LALITPUR POWER GENERATION COMPANY LIMITED (LPGCL)',\n",
       "       'GVK-POWER (GOINDWAL SAHIB) LTD.', 'SCCL', 'BRBCL',\n",
       "       'AVANTHA POWER LIMITED (JPL)', 'RPCL',\n",
       "       'NBPPL (NTPC BHEL POWER PROJECTS PVT. LTD.)', 'BSEB', 'TSGENCO',\n",
       "       'OPGC', 'NLCIL', 'NPGCL (NTPC-BSEB JV)', 'NTPC ',\n",
       "       'APPDCL (ANDHRA PRADESH POWER DEVELOPMENT CORP. LTD',\n",
       "       'THDC INDIA LTD', 'PVUNL',\n",
       "       'MEGHA ENGINEERING & INFRASTRUCTURES LTD. (MEIL) ',\n",
       "       'APGENCO (ANDHRA PRADESH POWER GENERATION CORP LTD)',\n",
       "       'ABHIJEET PROJECTS LIMITED', 'ABHIJEET GROUP',\n",
       "       'MONNET POWER CO LTD', 'SURANA POWER LIMITED', 'VISA POWER LTD'],\n",
       "      dtype=object)"
      ]
     },
     "execution_count": 33,
     "metadata": {},
     "output_type": "execute_result"
    }
   ],
   "source": [
    "data.Customer.unique()"
   ]
  },
  {
   "cell_type": "code",
   "execution_count": 34,
   "id": "8e7954e6",
   "metadata": {},
   "outputs": [
    {
     "data": {
      "text/plain": [
       "array([250, 125, 500, 210, 600, 195, 490, 525, 270, 660, 800, 520, 700,\n",
       "         0, 300], dtype=int64)"
      ]
     },
     "execution_count": 34,
     "metadata": {},
     "output_type": "execute_result"
    }
   ],
   "source": [
    "data.MW.unique()"
   ]
  },
  {
   "cell_type": "code",
   "execution_count": 35,
   "id": "d0057c8e",
   "metadata": {},
   "outputs": [
    {
     "data": {
      "text/plain": [
       "array(['DVC', 'RRVUNL', 'CSEB', 'MAHAGENCO', 'MPEB', 'NTPC',\n",
       "       'JINDAL POWER LIMITED , NEW DELHI', 'DVC', 'WBPDCL', 'CSEB',\n",
       "       'WBPDCL', 'APGENCO', 'KPCL', 'PSEB', 'NTPC',\n",
       "       'JINDAL POWER LIMITED , NEW DELHI',\n",
       "       'JINDAL POWER LIMITED , NEW DELHI', 'NSPCL',\n",
       "       'JINDAL POWER LIMITED , NEW DELHI', 'MPPGCL', 'PSEB', 'NTPC',\n",
       "       'TATA POWER', 'WBPDCL', 'RRVUNL', 'NSPCL', 'NTPC', 'RRVUNL',\n",
       "       'RRVUNL', 'CESC', 'APGENCO', 'RRVUNL', 'DVC', 'NTPC', 'MSPGCL',\n",
       "       'MSPGCL', 'DVC', 'GIPCL', 'GIPCL', 'RRVUNL', 'APGENCO ', 'KPCL',\n",
       "       'NLC', 'NTPC', 'DVC', 'APCPL/NTPC', 'NTPC', 'APGENCO', 'NLC',\n",
       "       'NTPC', 'DVC', 'NTPC', 'APGENCO', 'WBPDCL',\n",
       "       'MAITHON POWER LIMITED', 'DVC', 'DVC', 'MAHAGENCO', 'UPRVUNL',\n",
       "       'APCPL/NTPC', 'NLC', 'MSPGCL', 'KPCL', 'DVC',\n",
       "       'MAITHON POWER LIMITED', 'NTECL', 'MSPGCL', 'NTPC', 'NTPC',\n",
       "       'UPRVUNL', 'UPRVUNL', 'NTPC', 'NTPC', 'BPSCL', 'APCPL/NTPC',\n",
       "       'APNRL', 'DVC', 'NTECL (NTPC TAMILNADU ENERGY COMPANY LIMITED)',\n",
       "       'GSECL', 'TANGEDCO', 'UPRVUNL', 'IEPL', 'CSPGCL', 'MPPGCL', 'NTPC',\n",
       "       'INDIA BULLS', 'NTPC', 'APNRL', 'BPSCL', 'TANGEDCO', 'RRVUNL',\n",
       "       'NTPC', 'MPPGCL', 'NTPC', 'MPPGCL', 'INDIA BULLS',\n",
       "       'D.B. POWER LTD.', 'INDIA BULLS', 'NTECL', 'J P L , NEW DELHI',\n",
       "       'CSPGCL', 'J P L , NEW DELHI', 'DPL',\n",
       "       'KORBA WEST POWER COMPANY LIMITED (KWPCL)(AVANTHA)',\n",
       "       'JINDAL INDIA THERMAL POWER LTD', 'RRVUNL', 'MPPGCL',\n",
       "       'J P L , NEW DELHI', 'NLC', 'JINDAL INDIA THERMAL POWER LTD',\n",
       "       'INDIA BULLS', 'NTPC', 'INDIA BULLS', 'NTPL', 'INDIA BULLS',\n",
       "       'D.B. POWER LTD.', 'J P L , NEW DELHI', 'GSECL', 'MAHAGENCO',\n",
       "       'KANTI BIJALI UTPADAN NIGAM LTD', 'APGENCO/ APPDCL',\n",
       "       'APGENCO/ APPDCL', 'UPRVUNL', 'NTPC', 'NTPL', 'NTPC', 'GSECL',\n",
       "       'HINDUJA NATIONAL POWER CORPORATION LTD (HNPCL)', 'WBPDCL',\n",
       "       'PPGCL,(JP ASSOCIATES)', 'APGENCO',\n",
       "       'LALITPUR POWER GENERATION COMPANY LIMITED (LPGCL)',\n",
       "       'GVK-POWER (GOINDWAL SAHIB) LTD.', 'KPCL', 'UPRVUNL', 'SCCL',\n",
       "       'GVK-POWER (GOINDWAL SAHIB) LTD.', 'BRBCL', 'MAHAGENCO', 'DVC',\n",
       "       'AVANTHA POWER LIMITED (JPL)',\n",
       "       'LALITPUR POWER GENERATION COMPANY LIMITED (LPGCL)', 'NTPC',\n",
       "       'RPCL', 'MAHAGENCO',\n",
       "       'HINDUJA NATIONAL POWER CORPORATION LTD (HNPCL)',\n",
       "       'LALITPUR POWER GENERATION COMPANY LIMITED (LPGCL)', 'GSECL',\n",
       "       'CSPGCL', 'PPGCL,(JP ASSOCIATES)', 'SCCL', 'WBPDCL', 'INDIA BULLS',\n",
       "       'NTPC', 'NTPC', 'KANTI BIJALI UTPADAN NIGAM LTD', 'GSECL', 'RPCL',\n",
       "       'NBPPL (NTPC BHEL POWER PROJECTS PVT. LTD.)', 'BRBCL',\n",
       "       'INDIA BULLS', 'INDIA BULLS', 'PPGCL,(JP ASSOCIATES)',\n",
       "       'INDIA BULLS', 'BSEB', 'APGENCO', 'BSEB', 'NTPC', 'NTPC',\n",
       "       'TSGENCO', 'BRBCL', 'NTPC', 'NTPC', 'NTPC', 'OPGC', 'OPGC',\n",
       "       'GSECL', 'NLCIL', 'RRVUNL', 'NPGCL (NTPC-BSEB JV)', 'NTPC',\n",
       "       'NTPC ', 'TSGENCO', 'TSGENCO', 'NLCIL', 'NTPC', 'TSGENCO', 'NTPC',\n",
       "       'NTPC', 'NPGCL (NTPC-BSEB JV)', 'RRVUNL', 'BRBCL', 'NTPC ', 'NTPC',\n",
       "       'NTPC', 'NTPC', 'TSGENCO', 'MAHAGENCO', 'TANGEDCO', 'TANGEDCO',\n",
       "       'APPDCL (ANDHRA PRADESH POWER DEVELOPMENT CORP. LTD',\n",
       "       'THDC INDIA LTD', 'THDC INDIA LTD', 'NPGCL (NTPC-BSEB JV)',\n",
       "       'TANGEDCO', 'NTPC', 'NTPC', 'NTPC', 'NTPC', 'NTPC', 'UPRVUNL',\n",
       "       'PVUNL', 'PVUNL', 'PVUNL', 'WBPDCL', 'NSPCL',\n",
       "       'MEGHA ENGINEERING & INFRASTRUCTURES LTD. (MEIL) ', 'TANGEDCO',\n",
       "       'TANGEDCO', 'TANGEDCO', 'TANGEDCO',\n",
       "       'APGENCO (ANDHRA PRADESH POWER GENERATION CORP LTD)', 'TSGENCO',\n",
       "       'TSGENCO', 'TSGENCO', 'TSGENCO', 'TSGENCO',\n",
       "       'ABHIJEET PROJECTS LIMITED', 'ABHIJEET PROJECTS LIMITED',\n",
       "       'ABHIJEET PROJECTS LIMITED', 'ABHIJEET PROJECTS LIMITED',\n",
       "       'INDIA BULLS', 'INDIA BULLS', 'INDIA BULLS', 'INDIA BULLS',\n",
       "       'INDIA BULLS', 'ABHIJEET GROUP', 'MONNET POWER CO LTD',\n",
       "       'MONNET POWER CO LTD', 'INDIA BULLS', 'INDIA BULLS', 'INDIA BULLS',\n",
       "       'INDIA BULLS', 'INDIA BULLS', 'DVC', 'DVC', 'SURANA POWER LIMITED',\n",
       "       'SURANA POWER LIMITED', 'VISA POWER LTD', 'VISA POWER LTD'],\n",
       "      dtype=object)"
      ]
     },
     "execution_count": 35,
     "metadata": {},
     "output_type": "execute_result"
    }
   ],
   "source": [
    "data.Customer.values"
   ]
  },
  {
   "cell_type": "code",
   "execution_count": 36,
   "id": "63e55e0d",
   "metadata": {},
   "outputs": [
    {
     "name": "stdout",
     "output_type": "stream",
     "text": [
      "0 0\n",
      "0 1\n",
      "0 2\n",
      "0 3\n",
      "0 4\n",
      "1 5\n",
      "0 6\n",
      "0 7\n",
      "0 8\n",
      "0 9\n",
      "0 10\n",
      "0 11\n",
      "0 12\n",
      "0 13\n",
      "1 14\n",
      "0 15\n",
      "0 16\n",
      "0 17\n",
      "0 18\n",
      "0 19\n",
      "0 20\n",
      "1 21\n",
      "0 22\n",
      "0 23\n",
      "0 24\n",
      "0 25\n",
      "1 26\n",
      "0 27\n",
      "0 28\n",
      "0 29\n",
      "0 30\n",
      "0 31\n",
      "0 32\n",
      "1 33\n",
      "0 34\n",
      "0 35\n",
      "0 36\n",
      "0 37\n",
      "0 38\n",
      "0 39\n",
      "0 40\n",
      "0 41\n",
      "0 42\n",
      "1 43\n",
      "0 44\n",
      "0 45\n",
      "1 46\n",
      "0 47\n",
      "0 48\n",
      "1 49\n",
      "0 50\n",
      "1 51\n",
      "0 52\n",
      "0 53\n",
      "0 54\n",
      "0 55\n",
      "0 56\n",
      "0 57\n",
      "0 58\n",
      "0 59\n",
      "0 60\n",
      "0 61\n",
      "0 62\n",
      "0 63\n",
      "0 64\n",
      "0 65\n",
      "0 66\n",
      "1 67\n",
      "1 68\n",
      "0 69\n",
      "0 70\n",
      "1 71\n",
      "1 72\n",
      "0 73\n",
      "0 74\n",
      "0 75\n",
      "0 76\n",
      "0 77\n",
      "0 78\n",
      "0 79\n",
      "0 80\n",
      "0 81\n",
      "0 82\n",
      "0 83\n",
      "1 84\n",
      "0 85\n",
      "1 86\n",
      "0 87\n",
      "0 88\n",
      "0 89\n",
      "0 90\n",
      "1 91\n",
      "0 92\n",
      "1 93\n",
      "0 94\n",
      "0 95\n",
      "0 96\n",
      "0 97\n",
      "0 98\n",
      "0 99\n",
      "0 100\n",
      "0 101\n",
      "0 102\n",
      "0 103\n",
      "0 104\n",
      "0 105\n",
      "0 106\n",
      "0 107\n",
      "0 108\n",
      "0 109\n",
      "0 110\n",
      "1 111\n",
      "0 112\n",
      "0 113\n",
      "0 114\n",
      "0 115\n",
      "0 116\n",
      "0 117\n",
      "0 118\n",
      "0 119\n",
      "0 120\n",
      "0 121\n",
      "0 122\n",
      "1 123\n",
      "0 124\n",
      "1 125\n",
      "0 126\n",
      "0 127\n",
      "0 128\n",
      "0 129\n",
      "0 130\n",
      "0 131\n",
      "0 132\n",
      "0 133\n",
      "0 134\n",
      "0 135\n",
      "0 136\n",
      "0 137\n",
      "0 138\n",
      "0 139\n",
      "0 140\n",
      "0 141\n",
      "1 142\n",
      "0 143\n",
      "0 144\n",
      "0 145\n",
      "0 146\n",
      "0 147\n",
      "0 148\n",
      "0 149\n",
      "0 150\n",
      "0 151\n",
      "0 152\n",
      "1 153\n",
      "1 154\n",
      "0 155\n",
      "0 156\n",
      "0 157\n",
      "0 158\n",
      "0 159\n",
      "0 160\n",
      "0 161\n",
      "0 162\n",
      "0 163\n",
      "0 164\n",
      "0 165\n",
      "0 166\n",
      "1 167\n",
      "1 168\n",
      "0 169\n",
      "0 170\n",
      "1 171\n",
      "1 172\n",
      "1 173\n",
      "0 174\n",
      "0 175\n",
      "0 176\n",
      "0 177\n",
      "0 178\n",
      "0 179\n",
      "1 180\n",
      "0 181\n",
      "0 182\n",
      "0 183\n",
      "0 184\n",
      "1 185\n",
      "0 186\n",
      "1 187\n",
      "1 188\n",
      "0 189\n",
      "0 190\n",
      "0 191\n",
      "0 192\n",
      "1 193\n",
      "1 194\n",
      "1 195\n",
      "0 196\n",
      "0 197\n",
      "0 198\n",
      "0 199\n",
      "0 200\n",
      "0 201\n",
      "0 202\n",
      "0 203\n",
      "0 204\n",
      "1 205\n",
      "1 206\n",
      "1 207\n",
      "1 208\n",
      "1 209\n",
      "0 210\n",
      "0 211\n",
      "0 212\n",
      "0 213\n",
      "0 214\n",
      "0 215\n",
      "0 216\n",
      "0 217\n",
      "0 218\n",
      "0 219\n",
      "0 220\n",
      "0 221\n",
      "0 222\n",
      "0 223\n",
      "0 224\n",
      "0 225\n",
      "0 226\n",
      "0 227\n",
      "0 228\n",
      "0 229\n",
      "0 230\n",
      "0 231\n",
      "0 232\n",
      "0 233\n",
      "0 234\n",
      "0 235\n",
      "0 236\n",
      "0 237\n",
      "0 238\n",
      "0 239\n",
      "0 240\n",
      "0 241\n",
      "0 242\n",
      "0 243\n",
      "0 244\n",
      "0 245\n",
      "0 246\n",
      "0 247\n",
      "0 248\n"
     ]
    },
    {
     "name": "stderr",
     "output_type": "stream",
     "text": [
      "C:\\Users\\ABHISH~1\\AppData\\Local\\Temp/ipykernel_12588/56870684.py:7: SettingWithCopyWarning: \n",
      "A value is trying to be set on a copy of a slice from a DataFrame\n",
      "\n",
      "See the caveats in the documentation: https://pandas.pydata.org/pandas-docs/stable/user_guide/indexing.html#returning-a-view-versus-a-copy\n",
      "  data.Customer[i]=0\n",
      "C:\\Users\\ABHISH~1\\AppData\\Local\\Temp/ipykernel_12588/56870684.py:4: SettingWithCopyWarning: \n",
      "A value is trying to be set on a copy of a slice from a DataFrame\n",
      "\n",
      "See the caveats in the documentation: https://pandas.pydata.org/pandas-docs/stable/user_guide/indexing.html#returning-a-view-versus-a-copy\n",
      "  data.Customer[i]=1\n"
     ]
    }
   ],
   "source": [
    "x= len(data.Customer.values)\n",
    "for i in range(0,x-1):\n",
    "    if data.Customer[i]=='NTPC':\n",
    "        data.Customer[i]=1\n",
    "        print(data.Customer[i],i)\n",
    "    else:\n",
    "        data.Customer[i]=0\n",
    "        print(data.Customer[i],i)"
   ]
  },
  {
   "cell_type": "code",
   "execution_count": 37,
   "id": "f5b2083d",
   "metadata": {},
   "outputs": [
    {
     "data": {
      "text/html": [
       "<div>\n",
       "<style scoped>\n",
       "    .dataframe tbody tr th:only-of-type {\n",
       "        vertical-align: middle;\n",
       "    }\n",
       "\n",
       "    .dataframe tbody tr th {\n",
       "        vertical-align: top;\n",
       "    }\n",
       "\n",
       "    .dataframe thead th {\n",
       "        text-align: right;\n",
       "    }\n",
       "</style>\n",
       "<table border=\"1\" class=\"dataframe\">\n",
       "  <thead>\n",
       "    <tr style=\"text-align: right;\">\n",
       "      <th></th>\n",
       "      <th>0</th>\n",
       "      <th>Project</th>\n",
       "      <th>Sector</th>\n",
       "      <th>MW</th>\n",
       "      <th>Zero Date</th>\n",
       "      <th>State</th>\n",
       "      <th>Scope</th>\n",
       "      <th>Region</th>\n",
       "      <th>Customer</th>\n",
       "      <th>PROJECT START_Schedule</th>\n",
       "      <th>...</th>\n",
       "      <th>FULL LOAD_Schedule</th>\n",
       "      <th>FULL LOAD_Schedule_Exp/Actual</th>\n",
       "      <th>CAPACITY ADDITION_Schedule</th>\n",
       "      <th>CAPACITY ADDITION_Schedule_Exp/Actual</th>\n",
       "      <th>COMMERCIAL OPERATION DECLARATION_Schedule</th>\n",
       "      <th>COMMERCIAL OPERATION DECLARATION_Schedule_Exp/Actual</th>\n",
       "      <th>TRIAL OPERATION COMPLETION_Schedule</th>\n",
       "      <th>TRIAL OPERATION COMPLETION_Schedule_Exp/Actual</th>\n",
       "      <th>HAND OVER_Schedule</th>\n",
       "      <th>HAND OVER_Schedule_Exp/Actual</th>\n",
       "    </tr>\n",
       "  </thead>\n",
       "  <tbody>\n",
       "    <tr>\n",
       "      <th>0</th>\n",
       "      <td>1</td>\n",
       "      <td>MEJIA UNIT-5 (2 X 250 MW)</td>\n",
       "      <td>CENTRAL</td>\n",
       "      <td>250</td>\n",
       "      <td>15-06-2004</td>\n",
       "      <td>0.0</td>\n",
       "      <td>1.0</td>\n",
       "      <td>0</td>\n",
       "      <td>0</td>\n",
       "      <td>N.A.</td>\n",
       "      <td>...</td>\n",
       "      <td>N.A.</td>\n",
       "      <td>N.A.</td>\n",
       "      <td>N.A.</td>\n",
       "      <td>N.A.</td>\n",
       "      <td>12-01-2007</td>\n",
       "      <td>29-02-2008</td>\n",
       "      <td>12-01-2007</td>\n",
       "      <td>29-02-2008</td>\n",
       "      <td>12-01-2007</td>\n",
       "      <td>29-02-2008</td>\n",
       "    </tr>\n",
       "    <tr>\n",
       "      <th>1</th>\n",
       "      <td>2</td>\n",
       "      <td>GIRAL UNIT-1 (2X125 MW)</td>\n",
       "      <td>STATE</td>\n",
       "      <td>125</td>\n",
       "      <td>08-10-2003</td>\n",
       "      <td>1.0</td>\n",
       "      <td>0.0</td>\n",
       "      <td>2</td>\n",
       "      <td>0</td>\n",
       "      <td>N.A.</td>\n",
       "      <td>...</td>\n",
       "      <td>09-06-2006</td>\n",
       "      <td>14-09-2007</td>\n",
       "      <td>N.A.</td>\n",
       "      <td>N.A.</td>\n",
       "      <td>23-06-2006</td>\n",
       "      <td>18-10-2011</td>\n",
       "      <td>23-06-2006</td>\n",
       "      <td>18-10-2011</td>\n",
       "      <td>N.A.</td>\n",
       "      <td>N.A.</td>\n",
       "    </tr>\n",
       "    <tr>\n",
       "      <th>2</th>\n",
       "      <td>3</td>\n",
       "      <td>KORBA EAST UNIT-1 (2 X 250 MW)</td>\n",
       "      <td>STATE</td>\n",
       "      <td>250</td>\n",
       "      <td>28-04-2004</td>\n",
       "      <td>2.0</td>\n",
       "      <td>0.0</td>\n",
       "      <td>0</td>\n",
       "      <td>0</td>\n",
       "      <td>N.A.</td>\n",
       "      <td>...</td>\n",
       "      <td>N.A.</td>\n",
       "      <td>N.A.</td>\n",
       "      <td>N.A.</td>\n",
       "      <td>N.A.</td>\n",
       "      <td>28-03-2007</td>\n",
       "      <td>14-12-2007</td>\n",
       "      <td>28-03-2007</td>\n",
       "      <td>27-01-2008</td>\n",
       "      <td>28-03-2007</td>\n",
       "      <td>27-01-2008</td>\n",
       "    </tr>\n",
       "    <tr>\n",
       "      <th>3</th>\n",
       "      <td>4</td>\n",
       "      <td>PARAS UNIT-1 (1X250 MW)</td>\n",
       "      <td>STATE</td>\n",
       "      <td>250</td>\n",
       "      <td>25-05-2004</td>\n",
       "      <td>3.0</td>\n",
       "      <td>0.0</td>\n",
       "      <td>1</td>\n",
       "      <td>0</td>\n",
       "      <td>N.A.</td>\n",
       "      <td>...</td>\n",
       "      <td>N.A.</td>\n",
       "      <td>N.A.</td>\n",
       "      <td>N.A.</td>\n",
       "      <td>N.A.</td>\n",
       "      <td>25-01-2007</td>\n",
       "      <td>31-03-2008</td>\n",
       "      <td>25-01-2007</td>\n",
       "      <td>27-01-2008</td>\n",
       "      <td>N.A.</td>\n",
       "      <td>N.A.</td>\n",
       "    </tr>\n",
       "    <tr>\n",
       "      <th>4</th>\n",
       "      <td>5</td>\n",
       "      <td>BIRSINGPUR (SANJAY GANDHI) TPS EXTN UNIT-5 (1X...</td>\n",
       "      <td>STATE</td>\n",
       "      <td>500</td>\n",
       "      <td>27-06-2003</td>\n",
       "      <td>4.0</td>\n",
       "      <td>1.0</td>\n",
       "      <td>1</td>\n",
       "      <td>0</td>\n",
       "      <td>N.A.</td>\n",
       "      <td>...</td>\n",
       "      <td>N.A.</td>\n",
       "      <td>N.A.</td>\n",
       "      <td>N.A.</td>\n",
       "      <td>N.A.</td>\n",
       "      <td>26-12-2006</td>\n",
       "      <td>27-08-2008</td>\n",
       "      <td>26-12-2006</td>\n",
       "      <td>27-08-2008</td>\n",
       "      <td>N.A.</td>\n",
       "      <td>N.A.</td>\n",
       "    </tr>\n",
       "  </tbody>\n",
       "</table>\n",
       "<p>5 rows × 63 columns</p>\n",
       "</div>"
      ],
      "text/plain": [
       "   0                                            Project   Sector   MW  \\\n",
       "0  1                         MEJIA UNIT-5 (2 X 250 MW)   CENTRAL  250   \n",
       "1  2                            GIRAL UNIT-1 (2X125 MW)    STATE  125   \n",
       "2  3                     KORBA EAST UNIT-1 (2 X 250 MW)    STATE  250   \n",
       "3  4                           PARAS UNIT-1 (1X250 MW)     STATE  250   \n",
       "4  5  BIRSINGPUR (SANJAY GANDHI) TPS EXTN UNIT-5 (1X...    STATE  500   \n",
       "\n",
       "    Zero Date  State  Scope  Region Customer PROJECT START_Schedule  ...  \\\n",
       "0  15-06-2004    0.0    1.0       0        0                   N.A.  ...   \n",
       "1  08-10-2003    1.0    0.0       2        0                   N.A.  ...   \n",
       "2  28-04-2004    2.0    0.0       0        0                   N.A.  ...   \n",
       "3  25-05-2004    3.0    0.0       1        0                   N.A.  ...   \n",
       "4  27-06-2003    4.0    1.0       1        0                   N.A.  ...   \n",
       "\n",
       "  FULL LOAD_Schedule FULL LOAD_Schedule_Exp/Actual CAPACITY ADDITION_Schedule  \\\n",
       "0               N.A.                          N.A.                       N.A.   \n",
       "1         09-06-2006                    14-09-2007                       N.A.   \n",
       "2               N.A.                          N.A.                       N.A.   \n",
       "3               N.A.                          N.A.                       N.A.   \n",
       "4               N.A.                          N.A.                       N.A.   \n",
       "\n",
       "  CAPACITY ADDITION_Schedule_Exp/Actual  \\\n",
       "0                                  N.A.   \n",
       "1                                  N.A.   \n",
       "2                                  N.A.   \n",
       "3                                  N.A.   \n",
       "4                                  N.A.   \n",
       "\n",
       "  COMMERCIAL OPERATION DECLARATION_Schedule  \\\n",
       "0                                12-01-2007   \n",
       "1                                23-06-2006   \n",
       "2                                28-03-2007   \n",
       "3                                25-01-2007   \n",
       "4                                26-12-2006   \n",
       "\n",
       "  COMMERCIAL OPERATION DECLARATION_Schedule_Exp/Actual  \\\n",
       "0                                         29-02-2008     \n",
       "1                                         18-10-2011     \n",
       "2                                         14-12-2007     \n",
       "3                                         31-03-2008     \n",
       "4                                         27-08-2008     \n",
       "\n",
       "  TRIAL OPERATION COMPLETION_Schedule  \\\n",
       "0                          12-01-2007   \n",
       "1                          23-06-2006   \n",
       "2                          28-03-2007   \n",
       "3                          25-01-2007   \n",
       "4                          26-12-2006   \n",
       "\n",
       "  TRIAL OPERATION COMPLETION_Schedule_Exp/Actual HAND OVER_Schedule  \\\n",
       "0                                     29-02-2008         12-01-2007   \n",
       "1                                     18-10-2011               N.A.   \n",
       "2                                     27-01-2008         28-03-2007   \n",
       "3                                     27-01-2008               N.A.   \n",
       "4                                     27-08-2008               N.A.   \n",
       "\n",
       "  HAND OVER_Schedule_Exp/Actual  \n",
       "0                    29-02-2008  \n",
       "1                          N.A.  \n",
       "2                    27-01-2008  \n",
       "3                          N.A.  \n",
       "4                          N.A.  \n",
       "\n",
       "[5 rows x 63 columns]"
      ]
     },
     "execution_count": 37,
     "metadata": {},
     "output_type": "execute_result"
    }
   ],
   "source": [
    "data.head()"
   ]
  },
  {
   "cell_type": "code",
   "execution_count": 38,
   "id": "aca3e614",
   "metadata": {},
   "outputs": [],
   "source": [
    "data= data.drop(columns=['0','Sector'], axis=1)"
   ]
  },
  {
   "cell_type": "code",
   "execution_count": 39,
   "id": "a65e4e65",
   "metadata": {},
   "outputs": [
    {
     "data": {
      "text/html": [
       "<div>\n",
       "<style scoped>\n",
       "    .dataframe tbody tr th:only-of-type {\n",
       "        vertical-align: middle;\n",
       "    }\n",
       "\n",
       "    .dataframe tbody tr th {\n",
       "        vertical-align: top;\n",
       "    }\n",
       "\n",
       "    .dataframe thead th {\n",
       "        text-align: right;\n",
       "    }\n",
       "</style>\n",
       "<table border=\"1\" class=\"dataframe\">\n",
       "  <thead>\n",
       "    <tr style=\"text-align: right;\">\n",
       "      <th></th>\n",
       "      <th>Project</th>\n",
       "      <th>MW</th>\n",
       "      <th>Zero Date</th>\n",
       "      <th>State</th>\n",
       "      <th>Scope</th>\n",
       "      <th>Region</th>\n",
       "      <th>Customer</th>\n",
       "      <th>PROJECT START_Schedule</th>\n",
       "      <th>PROJECT START_Schedule_Exp/Actual</th>\n",
       "      <th>SITE OPENING_Schedule</th>\n",
       "      <th>...</th>\n",
       "      <th>FULL LOAD_Schedule</th>\n",
       "      <th>FULL LOAD_Schedule_Exp/Actual</th>\n",
       "      <th>CAPACITY ADDITION_Schedule</th>\n",
       "      <th>CAPACITY ADDITION_Schedule_Exp/Actual</th>\n",
       "      <th>COMMERCIAL OPERATION DECLARATION_Schedule</th>\n",
       "      <th>COMMERCIAL OPERATION DECLARATION_Schedule_Exp/Actual</th>\n",
       "      <th>TRIAL OPERATION COMPLETION_Schedule</th>\n",
       "      <th>TRIAL OPERATION COMPLETION_Schedule_Exp/Actual</th>\n",
       "      <th>HAND OVER_Schedule</th>\n",
       "      <th>HAND OVER_Schedule_Exp/Actual</th>\n",
       "    </tr>\n",
       "  </thead>\n",
       "  <tbody>\n",
       "    <tr>\n",
       "      <th>0</th>\n",
       "      <td>MEJIA UNIT-5 (2 X 250 MW)</td>\n",
       "      <td>250</td>\n",
       "      <td>15-06-2004</td>\n",
       "      <td>0.0</td>\n",
       "      <td>1.0</td>\n",
       "      <td>0</td>\n",
       "      <td>0</td>\n",
       "      <td>N.A.</td>\n",
       "      <td>N.A.</td>\n",
       "      <td>N.A.</td>\n",
       "      <td>...</td>\n",
       "      <td>N.A.</td>\n",
       "      <td>N.A.</td>\n",
       "      <td>N.A.</td>\n",
       "      <td>N.A.</td>\n",
       "      <td>12-01-2007</td>\n",
       "      <td>29-02-2008</td>\n",
       "      <td>12-01-2007</td>\n",
       "      <td>29-02-2008</td>\n",
       "      <td>12-01-2007</td>\n",
       "      <td>29-02-2008</td>\n",
       "    </tr>\n",
       "    <tr>\n",
       "      <th>1</th>\n",
       "      <td>GIRAL UNIT-1 (2X125 MW)</td>\n",
       "      <td>125</td>\n",
       "      <td>08-10-2003</td>\n",
       "      <td>1.0</td>\n",
       "      <td>0.0</td>\n",
       "      <td>2</td>\n",
       "      <td>0</td>\n",
       "      <td>N.A.</td>\n",
       "      <td>N.A.</td>\n",
       "      <td>N.A.</td>\n",
       "      <td>...</td>\n",
       "      <td>09-06-2006</td>\n",
       "      <td>14-09-2007</td>\n",
       "      <td>N.A.</td>\n",
       "      <td>N.A.</td>\n",
       "      <td>23-06-2006</td>\n",
       "      <td>18-10-2011</td>\n",
       "      <td>23-06-2006</td>\n",
       "      <td>18-10-2011</td>\n",
       "      <td>N.A.</td>\n",
       "      <td>N.A.</td>\n",
       "    </tr>\n",
       "  </tbody>\n",
       "</table>\n",
       "<p>2 rows × 61 columns</p>\n",
       "</div>"
      ],
      "text/plain": [
       "                      Project   MW   Zero Date  State  Scope  Region Customer  \\\n",
       "0  MEJIA UNIT-5 (2 X 250 MW)   250  15-06-2004    0.0    1.0       0        0   \n",
       "1     GIRAL UNIT-1 (2X125 MW)  125  08-10-2003    1.0    0.0       2        0   \n",
       "\n",
       "  PROJECT START_Schedule PROJECT START_Schedule_Exp/Actual  \\\n",
       "0                   N.A.                              N.A.   \n",
       "1                   N.A.                              N.A.   \n",
       "\n",
       "  SITE OPENING_Schedule  ... FULL LOAD_Schedule FULL LOAD_Schedule_Exp/Actual  \\\n",
       "0                  N.A.  ...               N.A.                          N.A.   \n",
       "1                  N.A.  ...         09-06-2006                    14-09-2007   \n",
       "\n",
       "  CAPACITY ADDITION_Schedule CAPACITY ADDITION_Schedule_Exp/Actual  \\\n",
       "0                       N.A.                                  N.A.   \n",
       "1                       N.A.                                  N.A.   \n",
       "\n",
       "  COMMERCIAL OPERATION DECLARATION_Schedule  \\\n",
       "0                                12-01-2007   \n",
       "1                                23-06-2006   \n",
       "\n",
       "  COMMERCIAL OPERATION DECLARATION_Schedule_Exp/Actual  \\\n",
       "0                                         29-02-2008     \n",
       "1                                         18-10-2011     \n",
       "\n",
       "  TRIAL OPERATION COMPLETION_Schedule  \\\n",
       "0                          12-01-2007   \n",
       "1                          23-06-2006   \n",
       "\n",
       "  TRIAL OPERATION COMPLETION_Schedule_Exp/Actual HAND OVER_Schedule  \\\n",
       "0                                     29-02-2008         12-01-2007   \n",
       "1                                     18-10-2011               N.A.   \n",
       "\n",
       "  HAND OVER_Schedule_Exp/Actual  \n",
       "0                    29-02-2008  \n",
       "1                          N.A.  \n",
       "\n",
       "[2 rows x 61 columns]"
      ]
     },
     "execution_count": 39,
     "metadata": {},
     "output_type": "execute_result"
    }
   ],
   "source": [
    "data.head(2)"
   ]
  },
  {
   "cell_type": "code",
   "execution_count": 40,
   "id": "2821cd02",
   "metadata": {},
   "outputs": [
    {
     "data": {
      "text/plain": [
       "0                 209\n",
       "1                  40\n",
       "VISA POWER LTD      1\n",
       "Name: Customer, dtype: int64"
      ]
     },
     "execution_count": 40,
     "metadata": {},
     "output_type": "execute_result"
    }
   ],
   "source": [
    "data.Customer.value_counts()"
   ]
  },
  {
   "cell_type": "code",
   "execution_count": 41,
   "id": "cba18bb8",
   "metadata": {},
   "outputs": [],
   "source": [
    "# data['Customer'].value_counts()"
   ]
  },
  {
   "cell_type": "code",
   "execution_count": 42,
   "id": "448e5940",
   "metadata": {},
   "outputs": [
    {
     "data": {
      "text/plain": [
       "count     250\n",
       "unique      3\n",
       "top         0\n",
       "freq      209\n",
       "Name: Customer, dtype: int64"
      ]
     },
     "execution_count": 42,
     "metadata": {},
     "output_type": "execute_result"
    }
   ],
   "source": [
    "data.Customer.describe()"
   ]
  },
  {
   "cell_type": "code",
   "execution_count": 43,
   "id": "d5dc4482",
   "metadata": {},
   "outputs": [
    {
     "data": {
      "text/plain": [
       "0      10-02-2005\n",
       "1            N.A.\n",
       "2      25-01-2005\n",
       "3      25-01-2005\n",
       "4      01-05-2004\n",
       "          ...    \n",
       "245          N.A.\n",
       "246    30-01-2011\n",
       "247    30-04-2011\n",
       "248    20-05-2011\n",
       "249          N.A.\n",
       "Name: BOILER ERECTION START_Schedule, Length: 250, dtype: object"
      ]
     },
     "execution_count": 43,
     "metadata": {},
     "output_type": "execute_result"
    }
   ],
   "source": [
    "data['BOILER ERECTION START_Schedule']\n",
    "#data['BES_Sch_Duration']= data['BOILER ERECTION START_Schedule']- data['Zero Date']\n"
   ]
  },
  {
   "cell_type": "code",
   "execution_count": 44,
   "id": "4e1acda2",
   "metadata": {},
   "outputs": [
    {
     "data": {
      "text/plain": [
       "0      15-06-2004\n",
       "1      08-10-2003\n",
       "2      28-04-2004\n",
       "3      25-05-2004\n",
       "4      27-06-2003\n",
       "          ...    \n",
       "245    04-09-2012\n",
       "246    30-03-2010\n",
       "247    30-03-2010\n",
       "248    09-08-2010\n",
       "249    09-08-2010\n",
       "Name: Zero Date, Length: 250, dtype: object"
      ]
     },
     "execution_count": 44,
     "metadata": {},
     "output_type": "execute_result"
    }
   ],
   "source": [
    "data['Zero Date']"
   ]
  },
  {
   "cell_type": "code",
   "execution_count": 45,
   "id": "1a7d03f3",
   "metadata": {},
   "outputs": [],
   "source": [
    "data= data[data['BOILER ERECTION START_Schedule'] != 'N.A.']"
   ]
  },
  {
   "cell_type": "code",
   "execution_count": 46,
   "id": "2ecf3c5e",
   "metadata": {},
   "outputs": [
    {
     "data": {
      "text/html": [
       "<div>\n",
       "<style scoped>\n",
       "    .dataframe tbody tr th:only-of-type {\n",
       "        vertical-align: middle;\n",
       "    }\n",
       "\n",
       "    .dataframe tbody tr th {\n",
       "        vertical-align: top;\n",
       "    }\n",
       "\n",
       "    .dataframe thead th {\n",
       "        text-align: right;\n",
       "    }\n",
       "</style>\n",
       "<table border=\"1\" class=\"dataframe\">\n",
       "  <thead>\n",
       "    <tr style=\"text-align: right;\">\n",
       "      <th></th>\n",
       "      <th>Project</th>\n",
       "      <th>MW</th>\n",
       "      <th>Zero Date</th>\n",
       "      <th>State</th>\n",
       "      <th>Scope</th>\n",
       "      <th>Region</th>\n",
       "      <th>Customer</th>\n",
       "      <th>PROJECT START_Schedule</th>\n",
       "      <th>PROJECT START_Schedule_Exp/Actual</th>\n",
       "      <th>SITE OPENING_Schedule</th>\n",
       "      <th>...</th>\n",
       "      <th>FULL LOAD_Schedule</th>\n",
       "      <th>FULL LOAD_Schedule_Exp/Actual</th>\n",
       "      <th>CAPACITY ADDITION_Schedule</th>\n",
       "      <th>CAPACITY ADDITION_Schedule_Exp/Actual</th>\n",
       "      <th>COMMERCIAL OPERATION DECLARATION_Schedule</th>\n",
       "      <th>COMMERCIAL OPERATION DECLARATION_Schedule_Exp/Actual</th>\n",
       "      <th>TRIAL OPERATION COMPLETION_Schedule</th>\n",
       "      <th>TRIAL OPERATION COMPLETION_Schedule_Exp/Actual</th>\n",
       "      <th>HAND OVER_Schedule</th>\n",
       "      <th>HAND OVER_Schedule_Exp/Actual</th>\n",
       "    </tr>\n",
       "  </thead>\n",
       "  <tbody>\n",
       "    <tr>\n",
       "      <th>0</th>\n",
       "      <td>MEJIA UNIT-5 (2 X 250 MW)</td>\n",
       "      <td>250</td>\n",
       "      <td>15-06-2004</td>\n",
       "      <td>0.0</td>\n",
       "      <td>1.0</td>\n",
       "      <td>0</td>\n",
       "      <td>0</td>\n",
       "      <td>N.A.</td>\n",
       "      <td>N.A.</td>\n",
       "      <td>N.A.</td>\n",
       "      <td>...</td>\n",
       "      <td>N.A.</td>\n",
       "      <td>N.A.</td>\n",
       "      <td>N.A.</td>\n",
       "      <td>N.A.</td>\n",
       "      <td>12-01-2007</td>\n",
       "      <td>29-02-2008</td>\n",
       "      <td>12-01-2007</td>\n",
       "      <td>29-02-2008</td>\n",
       "      <td>12-01-2007</td>\n",
       "      <td>29-02-2008</td>\n",
       "    </tr>\n",
       "    <tr>\n",
       "      <th>2</th>\n",
       "      <td>KORBA EAST UNIT-1 (2 X 250 MW)</td>\n",
       "      <td>250</td>\n",
       "      <td>28-04-2004</td>\n",
       "      <td>2.0</td>\n",
       "      <td>0.0</td>\n",
       "      <td>0</td>\n",
       "      <td>0</td>\n",
       "      <td>N.A.</td>\n",
       "      <td>N.A.</td>\n",
       "      <td>N.A.</td>\n",
       "      <td>...</td>\n",
       "      <td>N.A.</td>\n",
       "      <td>N.A.</td>\n",
       "      <td>N.A.</td>\n",
       "      <td>N.A.</td>\n",
       "      <td>28-03-2007</td>\n",
       "      <td>14-12-2007</td>\n",
       "      <td>28-03-2007</td>\n",
       "      <td>27-01-2008</td>\n",
       "      <td>28-03-2007</td>\n",
       "      <td>27-01-2008</td>\n",
       "    </tr>\n",
       "  </tbody>\n",
       "</table>\n",
       "<p>2 rows × 61 columns</p>\n",
       "</div>"
      ],
      "text/plain": [
       "                          Project   MW   Zero Date  State  Scope  Region  \\\n",
       "0      MEJIA UNIT-5 (2 X 250 MW)   250  15-06-2004    0.0    1.0       0   \n",
       "2  KORBA EAST UNIT-1 (2 X 250 MW)  250  28-04-2004    2.0    0.0       0   \n",
       "\n",
       "  Customer PROJECT START_Schedule PROJECT START_Schedule_Exp/Actual  \\\n",
       "0        0                   N.A.                              N.A.   \n",
       "2        0                   N.A.                              N.A.   \n",
       "\n",
       "  SITE OPENING_Schedule  ... FULL LOAD_Schedule FULL LOAD_Schedule_Exp/Actual  \\\n",
       "0                  N.A.  ...               N.A.                          N.A.   \n",
       "2                  N.A.  ...               N.A.                          N.A.   \n",
       "\n",
       "  CAPACITY ADDITION_Schedule CAPACITY ADDITION_Schedule_Exp/Actual  \\\n",
       "0                       N.A.                                  N.A.   \n",
       "2                       N.A.                                  N.A.   \n",
       "\n",
       "  COMMERCIAL OPERATION DECLARATION_Schedule  \\\n",
       "0                                12-01-2007   \n",
       "2                                28-03-2007   \n",
       "\n",
       "  COMMERCIAL OPERATION DECLARATION_Schedule_Exp/Actual  \\\n",
       "0                                         29-02-2008     \n",
       "2                                         14-12-2007     \n",
       "\n",
       "  TRIAL OPERATION COMPLETION_Schedule  \\\n",
       "0                          12-01-2007   \n",
       "2                          28-03-2007   \n",
       "\n",
       "  TRIAL OPERATION COMPLETION_Schedule_Exp/Actual HAND OVER_Schedule  \\\n",
       "0                                     29-02-2008         12-01-2007   \n",
       "2                                     27-01-2008         28-03-2007   \n",
       "\n",
       "  HAND OVER_Schedule_Exp/Actual  \n",
       "0                    29-02-2008  \n",
       "2                    27-01-2008  \n",
       "\n",
       "[2 rows x 61 columns]"
      ]
     },
     "execution_count": 46,
     "metadata": {},
     "output_type": "execute_result"
    }
   ],
   "source": [
    "data.head(2)"
   ]
  },
  {
   "cell_type": "code",
   "execution_count": 47,
   "id": "377c4d09",
   "metadata": {},
   "outputs": [],
   "source": [
    "import datetime as dt"
   ]
  },
  {
   "cell_type": "code",
   "execution_count": 48,
   "id": "14d8e3c9",
   "metadata": {},
   "outputs": [
    {
     "data": {
      "text/plain": [
       "dtype('O')"
      ]
     },
     "execution_count": 48,
     "metadata": {},
     "output_type": "execute_result"
    }
   ],
   "source": [
    "from datetime import date\n",
    "#data['BES_Sch_Duration']= (data['BOILER ERECTION START_Schedule']-data['Zero Date']).dt.days\n",
    "\n",
    "# data['BES_Sch_Duration']= data['BOILER ERECTION START_Schedule'].sub(data['Zero Date'], axis=0)\n",
    "\n",
    "# date['BOILER ERECTION START_Schedule'] = pd.to_datetime(data['BOILER ERECTION START_Schedule'])\n",
    "\n",
    "data['BOILER ERECTION START_Schedule'].dtypes"
   ]
  },
  {
   "cell_type": "code",
   "execution_count": 49,
   "id": "262fca5b",
   "metadata": {},
   "outputs": [],
   "source": [
    "# df['sale_date'] = pd.to_datetime(df.sale_date, format = '%B %d, %Y')\n",
    "data['BOILER ERECTION START_Schedule'] = pd.to_datetime(data['BOILER ERECTION START_Schedule'], format = '%d-%m-%Y')"
   ]
  },
  {
   "cell_type": "code",
   "execution_count": 50,
   "id": "29dd3870",
   "metadata": {},
   "outputs": [
    {
     "data": {
      "text/plain": [
       "0      15-06-2004\n",
       "2      28-04-2004\n",
       "3      25-05-2004\n",
       "4      27-06-2003\n",
       "5      15-12-2003\n",
       "          ...    \n",
       "242    08-10-2010\n",
       "243    08-10-2010\n",
       "246    30-03-2010\n",
       "247    30-03-2010\n",
       "248    09-08-2010\n",
       "Name: Zero Date, Length: 238, dtype: object"
      ]
     },
     "execution_count": 50,
     "metadata": {},
     "output_type": "execute_result"
    }
   ],
   "source": [
    "data['Zero Date']"
   ]
  },
  {
   "cell_type": "code",
   "execution_count": 51,
   "id": "950bc7ef",
   "metadata": {},
   "outputs": [
    {
     "data": {
      "text/plain": [
       "dtype('O')"
      ]
     },
     "execution_count": 51,
     "metadata": {},
     "output_type": "execute_result"
    }
   ],
   "source": [
    "data['Zero Date'].dtype"
   ]
  },
  {
   "cell_type": "code",
   "execution_count": 52,
   "id": "eafd15b1",
   "metadata": {},
   "outputs": [
    {
     "data": {
      "text/plain": [
       "dtype('<M8[ns]')"
      ]
     },
     "execution_count": 52,
     "metadata": {},
     "output_type": "execute_result"
    }
   ],
   "source": [
    "data['BOILER ERECTION START_Schedule'].dtype"
   ]
  },
  {
   "cell_type": "code",
   "execution_count": 53,
   "id": "e1b6a302",
   "metadata": {},
   "outputs": [],
   "source": [
    "data['Zero Date'] = pd.to_datetime(data['Zero Date'], format = '%d-%m-%Y')"
   ]
  },
  {
   "cell_type": "code",
   "execution_count": 54,
   "id": "94254773",
   "metadata": {},
   "outputs": [],
   "source": [
    "data['BES_Sch_Duration']= (data['BOILER ERECTION START_Schedule']-data['Zero Date']).dt.days"
   ]
  },
  {
   "cell_type": "code",
   "execution_count": 55,
   "id": "42ef5415",
   "metadata": {},
   "outputs": [
    {
     "data": {
      "text/plain": [
       "0      240\n",
       "2      272\n",
       "3      245\n",
       "4      309\n",
       "5      304\n",
       "      ... \n",
       "242    304\n",
       "243    243\n",
       "246    306\n",
       "247    396\n",
       "248    284\n",
       "Name: BES_Sch_Duration, Length: 238, dtype: int64"
      ]
     },
     "execution_count": 55,
     "metadata": {},
     "output_type": "execute_result"
    }
   ],
   "source": [
    "data['BES_Sch_Duration']"
   ]
  },
  {
   "cell_type": "code",
   "execution_count": 56,
   "id": "1714028c",
   "metadata": {},
   "outputs": [],
   "source": [
    "data['BOILER ERECTION START_Schedule_Exp/Actual'] = pd.to_datetime(data['BOILER ERECTION START_Schedule_Exp/Actual'], format = '%d-%m-%Y')\n",
    "data['BES_Act_Duration']= (data['BOILER ERECTION START_Schedule_Exp/Actual']-data['Zero Date']).dt.days"
   ]
  },
  {
   "cell_type": "code",
   "execution_count": 57,
   "id": "e791116c",
   "metadata": {},
   "outputs": [
    {
     "data": {
      "text/plain": [
       "dtype('<M8[ns]')"
      ]
     },
     "execution_count": 57,
     "metadata": {},
     "output_type": "execute_result"
    }
   ],
   "source": [
    "data['BOILER ERECTION START_Schedule_Exp/Actual'].dtype"
   ]
  },
  {
   "cell_type": "code",
   "execution_count": 58,
   "id": "7c1f30c9",
   "metadata": {},
   "outputs": [
    {
     "data": {
      "text/plain": [
       "Index(['Project', 'MW', 'Zero Date', 'State', 'Scope', 'Region', 'Customer',\n",
       "       'PROJECT START_Schedule', 'PROJECT START_Schedule_Exp/Actual',\n",
       "       'SITE OPENING_Schedule', 'SITE OPENING_Schedule_Exp/Actual',\n",
       "       'CVL START_Schedule', 'CVL START_Schedule_Exp/Actual',\n",
       "       'BOILER ERECTION START_Schedule',\n",
       "       'BOILER ERECTION START_Schedule_Exp/Actual', 'DRUM LIFTING_Schedule',\n",
       "       'DRUM LIFTING_Schedule_Exp/Actual',\n",
       "       'CEILING GIRDER/SEPERATOR ERECTION COMPLETION_Schedule',\n",
       "       'CEILING GIRDER/SEPERATOR ERECTION COMPLETION_Schedule_Exp/Actual',\n",
       "       'HYDRAULIC TEST_Schedule', 'HYDRAULIC TEST_Schedule_Exp/Actual',\n",
       "       'BOILER LIGHT UP_Schedule', 'BOILER LIGHT UP_Schedule_Exp/Actual',\n",
       "       'ALKALI BOIL OUT COMPLETION_Schedule',\n",
       "       'ALKALI BOIL OUT COMPLETION_Schedule_Exp/Actual', 'EDTA START_Schedule',\n",
       "       'EDTA START_Schedule_Exp/Actual', 'EDTA COMPLETION_Schedule',\n",
       "       'EDTA COMPLETION_Schedule_Exp/Actual', 'STEAM BLOWING START_Schedule',\n",
       "       'STEAM BLOWING START_Schedule_Exp/Actual',\n",
       "       'STEAM BLOWING COMPLETION_Schedule',\n",
       "       'STEAM BLOWING COMPLETION_Schedule_Exp/Actual',\n",
       "       'NORMALIZATION_Schedule', 'NORMALIZATION_Schedule_Exp/Actual',\n",
       "       'CONDENSER ERECTION START_Schedule',\n",
       "       'CONDENSER ERECTION START_Schedule_Exp/Actual',\n",
       "       'TURBINE ERECTION START_Schedule',\n",
       "       'TURBINE ERECTION START_Schedule_Exp/Actual', 'TG BOX UP_Schedule',\n",
       "       'TG BOX UP_Schedule_Exp/Actual', 'OIL FLUSHING START_Schedule',\n",
       "       'OIL FLUSHING START_Schedule_Exp/Actual',\n",
       "       'OIL FLUSHING COMPLETION_Schedule',\n",
       "       'OIL FLUSHING COMPLETION_Schedule_Exp/Actual', 'BARRING GEAR_Schedule',\n",
       "       'BARRING GEAR_Schedule_Exp/Actual', 'ROLLING_Schedule',\n",
       "       'ROLLING_Schedule_Exp/Actual', 'SYNCHRONISATION_Schedule',\n",
       "       'SYNCHRONISATION_Schedule_Exp/Actual', 'FULL LOAD_Schedule',\n",
       "       'FULL LOAD_Schedule_Exp/Actual', 'CAPACITY ADDITION_Schedule',\n",
       "       'CAPACITY ADDITION_Schedule_Exp/Actual',\n",
       "       'COMMERCIAL OPERATION DECLARATION_Schedule',\n",
       "       'COMMERCIAL OPERATION DECLARATION_Schedule_Exp/Actual',\n",
       "       'TRIAL OPERATION COMPLETION_Schedule',\n",
       "       'TRIAL OPERATION COMPLETION_Schedule_Exp/Actual', 'HAND OVER_Schedule',\n",
       "       'HAND OVER_Schedule_Exp/Actual', 'BES_Sch_Duration',\n",
       "       'BES_Act_Duration'],\n",
       "      dtype='object')"
      ]
     },
     "execution_count": 58,
     "metadata": {},
     "output_type": "execute_result"
    }
   ],
   "source": [
    "data.columns"
   ]
  },
  {
   "cell_type": "code",
   "execution_count": 59,
   "id": "7327bb5c",
   "metadata": {},
   "outputs": [],
   "source": [
    "from sklearn.linear_model import LinearRegression"
   ]
  },
  {
   "cell_type": "code",
   "execution_count": 60,
   "id": "6d4a27f5",
   "metadata": {},
   "outputs": [],
   "source": [
    "from sklearn.model_selection import train_test_split"
   ]
  },
  {
   "cell_type": "code",
   "execution_count": 61,
   "id": "c805a4be",
   "metadata": {},
   "outputs": [
    {
     "data": {
      "text/plain": [
       "Index(['Project', 'MW', 'Zero Date', 'State', 'Scope', 'Region', 'Customer',\n",
       "       'PROJECT START_Schedule', 'PROJECT START_Schedule_Exp/Actual',\n",
       "       'SITE OPENING_Schedule', 'SITE OPENING_Schedule_Exp/Actual',\n",
       "       'CVL START_Schedule', 'CVL START_Schedule_Exp/Actual',\n",
       "       'BOILER ERECTION START_Schedule',\n",
       "       'BOILER ERECTION START_Schedule_Exp/Actual', 'DRUM LIFTING_Schedule',\n",
       "       'DRUM LIFTING_Schedule_Exp/Actual',\n",
       "       'CEILING GIRDER/SEPERATOR ERECTION COMPLETION_Schedule',\n",
       "       'CEILING GIRDER/SEPERATOR ERECTION COMPLETION_Schedule_Exp/Actual',\n",
       "       'HYDRAULIC TEST_Schedule', 'HYDRAULIC TEST_Schedule_Exp/Actual',\n",
       "       'BOILER LIGHT UP_Schedule', 'BOILER LIGHT UP_Schedule_Exp/Actual',\n",
       "       'ALKALI BOIL OUT COMPLETION_Schedule',\n",
       "       'ALKALI BOIL OUT COMPLETION_Schedule_Exp/Actual', 'EDTA START_Schedule',\n",
       "       'EDTA START_Schedule_Exp/Actual', 'EDTA COMPLETION_Schedule',\n",
       "       'EDTA COMPLETION_Schedule_Exp/Actual', 'STEAM BLOWING START_Schedule',\n",
       "       'STEAM BLOWING START_Schedule_Exp/Actual',\n",
       "       'STEAM BLOWING COMPLETION_Schedule',\n",
       "       'STEAM BLOWING COMPLETION_Schedule_Exp/Actual',\n",
       "       'NORMALIZATION_Schedule', 'NORMALIZATION_Schedule_Exp/Actual',\n",
       "       'CONDENSER ERECTION START_Schedule',\n",
       "       'CONDENSER ERECTION START_Schedule_Exp/Actual',\n",
       "       'TURBINE ERECTION START_Schedule',\n",
       "       'TURBINE ERECTION START_Schedule_Exp/Actual', 'TG BOX UP_Schedule',\n",
       "       'TG BOX UP_Schedule_Exp/Actual', 'OIL FLUSHING START_Schedule',\n",
       "       'OIL FLUSHING START_Schedule_Exp/Actual',\n",
       "       'OIL FLUSHING COMPLETION_Schedule',\n",
       "       'OIL FLUSHING COMPLETION_Schedule_Exp/Actual', 'BARRING GEAR_Schedule',\n",
       "       'BARRING GEAR_Schedule_Exp/Actual', 'ROLLING_Schedule',\n",
       "       'ROLLING_Schedule_Exp/Actual', 'SYNCHRONISATION_Schedule',\n",
       "       'SYNCHRONISATION_Schedule_Exp/Actual', 'FULL LOAD_Schedule',\n",
       "       'FULL LOAD_Schedule_Exp/Actual', 'CAPACITY ADDITION_Schedule',\n",
       "       'CAPACITY ADDITION_Schedule_Exp/Actual',\n",
       "       'COMMERCIAL OPERATION DECLARATION_Schedule',\n",
       "       'COMMERCIAL OPERATION DECLARATION_Schedule_Exp/Actual',\n",
       "       'TRIAL OPERATION COMPLETION_Schedule',\n",
       "       'TRIAL OPERATION COMPLETION_Schedule_Exp/Actual', 'HAND OVER_Schedule',\n",
       "       'HAND OVER_Schedule_Exp/Actual', 'BES_Sch_Duration',\n",
       "       'BES_Act_Duration'],\n",
       "      dtype='object')"
      ]
     },
     "execution_count": 61,
     "metadata": {},
     "output_type": "execute_result"
    }
   ],
   "source": [
    "data.columns"
   ]
  },
  {
   "cell_type": "code",
   "execution_count": 62,
   "id": "c204a7bc",
   "metadata": {},
   "outputs": [],
   "source": [
    "x= data.iloc[:,1:6]"
   ]
  },
  {
   "cell_type": "code",
   "execution_count": 63,
   "id": "ba93f7a3",
   "metadata": {},
   "outputs": [],
   "source": [
    "x= x.drop(columns='Zero Date', axis=1)"
   ]
  },
  {
   "cell_type": "code",
   "execution_count": 64,
   "id": "750b189d",
   "metadata": {},
   "outputs": [
    {
     "data": {
      "text/html": [
       "<div>\n",
       "<style scoped>\n",
       "    .dataframe tbody tr th:only-of-type {\n",
       "        vertical-align: middle;\n",
       "    }\n",
       "\n",
       "    .dataframe tbody tr th {\n",
       "        vertical-align: top;\n",
       "    }\n",
       "\n",
       "    .dataframe thead th {\n",
       "        text-align: right;\n",
       "    }\n",
       "</style>\n",
       "<table border=\"1\" class=\"dataframe\">\n",
       "  <thead>\n",
       "    <tr style=\"text-align: right;\">\n",
       "      <th></th>\n",
       "      <th>MW</th>\n",
       "      <th>State</th>\n",
       "      <th>Scope</th>\n",
       "      <th>Region</th>\n",
       "    </tr>\n",
       "  </thead>\n",
       "  <tbody>\n",
       "    <tr>\n",
       "      <th>0</th>\n",
       "      <td>250</td>\n",
       "      <td>0.0</td>\n",
       "      <td>1.0</td>\n",
       "      <td>0</td>\n",
       "    </tr>\n",
       "    <tr>\n",
       "      <th>2</th>\n",
       "      <td>250</td>\n",
       "      <td>2.0</td>\n",
       "      <td>0.0</td>\n",
       "      <td>0</td>\n",
       "    </tr>\n",
       "    <tr>\n",
       "      <th>3</th>\n",
       "      <td>250</td>\n",
       "      <td>3.0</td>\n",
       "      <td>0.0</td>\n",
       "      <td>1</td>\n",
       "    </tr>\n",
       "    <tr>\n",
       "      <th>4</th>\n",
       "      <td>500</td>\n",
       "      <td>4.0</td>\n",
       "      <td>1.0</td>\n",
       "      <td>1</td>\n",
       "    </tr>\n",
       "    <tr>\n",
       "      <th>5</th>\n",
       "      <td>500</td>\n",
       "      <td>5.0</td>\n",
       "      <td>0.0</td>\n",
       "      <td>3</td>\n",
       "    </tr>\n",
       "    <tr>\n",
       "      <th>...</th>\n",
       "      <td>...</td>\n",
       "      <td>...</td>\n",
       "      <td>...</td>\n",
       "      <td>...</td>\n",
       "    </tr>\n",
       "    <tr>\n",
       "      <th>242</th>\n",
       "      <td>270</td>\n",
       "      <td>3.0</td>\n",
       "      <td>0.0</td>\n",
       "      <td>1</td>\n",
       "    </tr>\n",
       "    <tr>\n",
       "      <th>243</th>\n",
       "      <td>270</td>\n",
       "      <td>3.0</td>\n",
       "      <td>0.0</td>\n",
       "      <td>1</td>\n",
       "    </tr>\n",
       "    <tr>\n",
       "      <th>246</th>\n",
       "      <td>210</td>\n",
       "      <td>15.0</td>\n",
       "      <td>0.0</td>\n",
       "      <td>3</td>\n",
       "    </tr>\n",
       "    <tr>\n",
       "      <th>247</th>\n",
       "      <td>210</td>\n",
       "      <td>15.0</td>\n",
       "      <td>0.0</td>\n",
       "      <td>3</td>\n",
       "    </tr>\n",
       "    <tr>\n",
       "      <th>248</th>\n",
       "      <td>600</td>\n",
       "      <td>2.0</td>\n",
       "      <td>0.0</td>\n",
       "      <td>1</td>\n",
       "    </tr>\n",
       "  </tbody>\n",
       "</table>\n",
       "<p>238 rows × 4 columns</p>\n",
       "</div>"
      ],
      "text/plain": [
       "      MW  State  Scope  Region\n",
       "0    250    0.0    1.0       0\n",
       "2    250    2.0    0.0       0\n",
       "3    250    3.0    0.0       1\n",
       "4    500    4.0    1.0       1\n",
       "5    500    5.0    0.0       3\n",
       "..   ...    ...    ...     ...\n",
       "242  270    3.0    0.0       1\n",
       "243  270    3.0    0.0       1\n",
       "246  210   15.0    0.0       3\n",
       "247  210   15.0    0.0       3\n",
       "248  600    2.0    0.0       1\n",
       "\n",
       "[238 rows x 4 columns]"
      ]
     },
     "execution_count": 64,
     "metadata": {},
     "output_type": "execute_result"
    }
   ],
   "source": [
    "x"
   ]
  },
  {
   "cell_type": "code",
   "execution_count": 65,
   "id": "be27b4ad",
   "metadata": {},
   "outputs": [
    {
     "data": {
      "text/plain": [
       "MW        0\n",
       "State     1\n",
       "Scope     1\n",
       "Region    0\n",
       "dtype: int64"
      ]
     },
     "execution_count": 65,
     "metadata": {},
     "output_type": "execute_result"
    }
   ],
   "source": [
    "x.isnull().sum()"
   ]
  },
  {
   "cell_type": "code",
   "execution_count": 66,
   "id": "6cd351b7",
   "metadata": {},
   "outputs": [],
   "source": [
    "x=x.fillna('0')"
   ]
  },
  {
   "cell_type": "code",
   "execution_count": 67,
   "id": "426c7d09",
   "metadata": {},
   "outputs": [
    {
     "data": {
      "text/plain": [
       "MW        0\n",
       "State     0\n",
       "Scope     0\n",
       "Region    0\n",
       "dtype: int64"
      ]
     },
     "execution_count": 67,
     "metadata": {},
     "output_type": "execute_result"
    }
   ],
   "source": [
    "x.isnull().sum()\n"
   ]
  },
  {
   "cell_type": "code",
   "execution_count": 68,
   "id": "87879c7c",
   "metadata": {},
   "outputs": [
    {
     "data": {
      "text/plain": [
       "63"
      ]
     },
     "execution_count": 68,
     "metadata": {},
     "output_type": "execute_result"
    }
   ],
   "source": [
    "len(data.columns)"
   ]
  },
  {
   "cell_type": "code",
   "execution_count": 69,
   "id": "2d2ce4d9",
   "metadata": {},
   "outputs": [],
   "source": [
    "\n",
    "y= data['BES_Sch_Duration']"
   ]
  },
  {
   "cell_type": "code",
   "execution_count": 70,
   "id": "ceef3a3a",
   "metadata": {},
   "outputs": [
    {
     "data": {
      "text/plain": [
       "0      240\n",
       "2      272\n",
       "3      245\n",
       "4      309\n",
       "5      304\n",
       "      ... \n",
       "242    304\n",
       "243    243\n",
       "246    306\n",
       "247    396\n",
       "248    284\n",
       "Name: BES_Sch_Duration, Length: 238, dtype: int64"
      ]
     },
     "execution_count": 70,
     "metadata": {},
     "output_type": "execute_result"
    }
   ],
   "source": [
    "y"
   ]
  },
  {
   "cell_type": "code",
   "execution_count": 71,
   "id": "106607aa",
   "metadata": {},
   "outputs": [
    {
     "data": {
      "text/plain": [
       "0"
      ]
     },
     "execution_count": 71,
     "metadata": {},
     "output_type": "execute_result"
    }
   ],
   "source": [
    "y.isnull().sum()"
   ]
  },
  {
   "cell_type": "code",
   "execution_count": 72,
   "id": "359e088a",
   "metadata": {},
   "outputs": [],
   "source": [
    "x_train,x_test,y_train, y_test= train_test_split(x,y, test_size=0.1, random_state=1)"
   ]
  },
  {
   "cell_type": "code",
   "execution_count": 73,
   "id": "65d73585",
   "metadata": {},
   "outputs": [],
   "source": [
    "lr= LinearRegression()"
   ]
  },
  {
   "cell_type": "code",
   "execution_count": 74,
   "id": "519845ac",
   "metadata": {
    "scrolled": true
   },
   "outputs": [
    {
     "data": {
      "text/plain": [
       "0"
      ]
     },
     "execution_count": 74,
     "metadata": {},
     "output_type": "execute_result"
    }
   ],
   "source": [
    "data['Zero Date'].isnull().sum()"
   ]
  },
  {
   "cell_type": "code",
   "execution_count": 75,
   "id": "1f62ed79",
   "metadata": {},
   "outputs": [
    {
     "data": {
      "text/plain": [
       "8"
      ]
     },
     "execution_count": 75,
     "metadata": {},
     "output_type": "execute_result"
    }
   ],
   "source": [
    "data['BOILER ERECTION START_Schedule_Exp/Actual'].isnull().sum()\n"
   ]
  },
  {
   "cell_type": "code",
   "execution_count": 76,
   "id": "0ecef623",
   "metadata": {},
   "outputs": [],
   "source": [
    "data['BOILER ERECTION START_Schedule_Exp/Actual']=data['BOILER ERECTION START_Schedule_Exp/Actual'].dropna()"
   ]
  },
  {
   "cell_type": "code",
   "execution_count": 77,
   "id": "381079c9",
   "metadata": {},
   "outputs": [
    {
     "data": {
      "text/plain": [
       "8"
      ]
     },
     "execution_count": 77,
     "metadata": {},
     "output_type": "execute_result"
    }
   ],
   "source": [
    "data['BOILER ERECTION START_Schedule_Exp/Actual'].isnull().sum()\n"
   ]
  },
  {
   "cell_type": "code",
   "execution_count": 78,
   "id": "85ab35eb",
   "metadata": {},
   "outputs": [
    {
     "data": {
      "text/plain": [
       "LinearRegression()"
      ]
     },
     "execution_count": 78,
     "metadata": {},
     "output_type": "execute_result"
    }
   ],
   "source": [
    "lr.fit(x_train,y_train)"
   ]
  },
  {
   "cell_type": "code",
   "execution_count": 79,
   "id": "0c256ac5",
   "metadata": {},
   "outputs": [
    {
     "name": "stderr",
     "output_type": "stream",
     "text": [
      "c:\\Users\\abhishek ranjan\\AppData\\Local\\Programs\\Python\\Python310\\lib\\site-packages\\sklearn\\base.py:450: UserWarning: X does not have valid feature names, but LinearRegression was fitted with feature names\n",
      "  warnings.warn(\n"
     ]
    },
    {
     "data": {
      "text/plain": [
       "array([421.59449518])"
      ]
     },
     "execution_count": 79,
     "metadata": {},
     "output_type": "execute_result"
    }
   ],
   "source": [
    "lr.predict([[500,4.0,1.0,1]])"
   ]
  },
  {
   "cell_type": "code",
   "execution_count": 80,
   "id": "be9f0367",
   "metadata": {},
   "outputs": [
    {
     "name": "stderr",
     "output_type": "stream",
     "text": [
      "c:\\Users\\abhishek ranjan\\AppData\\Local\\Programs\\Python\\Python310\\lib\\site-packages\\sklearn\\base.py:450: UserWarning: X does not have valid feature names, but LinearRegression was fitted with feature names\n",
      "  warnings.warn(\n"
     ]
    },
    {
     "data": {
      "text/plain": [
       "array([408.66488501])"
      ]
     },
     "execution_count": 80,
     "metadata": {},
     "output_type": "execute_result"
    }
   ],
   "source": [
    "lr.predict([[660,4,1,2]])"
   ]
  },
  {
   "cell_type": "code",
   "execution_count": 81,
   "id": "1e6acd89",
   "metadata": {},
   "outputs": [
    {
     "name": "stderr",
     "output_type": "stream",
     "text": [
      "c:\\Users\\abhishek ranjan\\AppData\\Local\\Programs\\Python\\Python310\\lib\\site-packages\\sklearn\\base.py:450: UserWarning: X does not have valid feature names, but LinearRegression was fitted with feature names\n",
      "  warnings.warn(\n"
     ]
    },
    {
     "data": {
      "text/plain": [
       "array([422.42631303])"
      ]
     },
     "execution_count": 81,
     "metadata": {},
     "output_type": "execute_result"
    }
   ],
   "source": [
    "lr.predict([[800,4,1,2]])"
   ]
  },
  {
   "cell_type": "code",
   "execution_count": 82,
   "id": "5c63914b",
   "metadata": {},
   "outputs": [
    {
     "name": "stderr",
     "output_type": "stream",
     "text": [
      "c:\\Users\\abhishek ranjan\\AppData\\Local\\Programs\\Python\\Python310\\lib\\site-packages\\sklearn\\base.py:450: UserWarning: X does not have valid feature names, but LinearRegression was fitted with feature names\n",
      "  warnings.warn(\n"
     ]
    },
    {
     "data": {
      "text/plain": [
       "array([424.40808927])"
      ]
     },
     "execution_count": 82,
     "metadata": {},
     "output_type": "execute_result"
    }
   ],
   "source": [
    "lr.predict([[800,4,0,2]])"
   ]
  },
  {
   "cell_type": "code",
   "execution_count": 83,
   "id": "edfa02ef",
   "metadata": {},
   "outputs": [],
   "source": [
    "for_graph=lr.predict(x)"
   ]
  },
  {
   "cell_type": "code",
   "execution_count": 84,
   "id": "68ae2347",
   "metadata": {},
   "outputs": [
    {
     "data": {
      "text/plain": [
       "[<matplotlib.lines.Line2D at 0x1f956139150>]"
      ]
     },
     "execution_count": 84,
     "metadata": {},
     "output_type": "execute_result"
    },
    {
     "data": {
      "image/png": "[encoded data removed]",
      "text/plain": [
       "<Figure size 432x288 with 1 Axes>"
      ]
     },
     "metadata": {},
     "output_type": "display_data"
    }
   ],
   "source": [
    "plt.plot(for_graph,y)"
   ]
  },
  {
   "cell_type": "code",
   "execution_count": 85,
   "id": "7e7202eb",
   "metadata": {},
   "outputs": [],
   "source": [
    "y_act= data['BES_Act_Duration']\n"
   ]
  },
  {
   "cell_type": "code",
   "execution_count": 86,
   "id": "3cb3c061",
   "metadata": {},
   "outputs": [
    {
     "data": {
      "text/plain": [
       "8"
      ]
     },
     "execution_count": 86,
     "metadata": {},
     "output_type": "execute_result"
    }
   ],
   "source": [
    "y_act.isnull().sum()"
   ]
  },
  {
   "cell_type": "code",
   "execution_count": 87,
   "id": "1cb5cb68",
   "metadata": {},
   "outputs": [],
   "source": [
    "mean_y= y_act.mean()"
   ]
  },
  {
   "cell_type": "code",
   "execution_count": 88,
   "id": "531c0bcf",
   "metadata": {},
   "outputs": [
    {
     "data": {
      "text/plain": [
       "570.7217391304348"
      ]
     },
     "execution_count": 88,
     "metadata": {},
     "output_type": "execute_result"
    }
   ],
   "source": [
    "mean_y"
   ]
  },
  {
   "cell_type": "code",
   "execution_count": 89,
   "id": "4ae034b5",
   "metadata": {},
   "outputs": [],
   "source": [
    "y_act= y_act.fillna(mean_y)"
   ]
  },
  {
   "cell_type": "code",
   "execution_count": 90,
   "id": "8f0e483e",
   "metadata": {},
   "outputs": [],
   "source": [
    "x_act= data.iloc[:,1:6]"
   ]
  },
  {
   "cell_type": "code",
   "execution_count": 91,
   "id": "c799ed8c",
   "metadata": {},
   "outputs": [],
   "source": [
    "x_act['BES_Sch_Duration']= data['BES_Sch_Duration']"
   ]
  },
  {
   "cell_type": "code",
   "execution_count": 92,
   "id": "ef10e1fc",
   "metadata": {},
   "outputs": [],
   "source": [
    "x_act= x_act.drop(columns=['Zero Date'], axis=1)"
   ]
  },
  {
   "cell_type": "code",
   "execution_count": 93,
   "id": "b88f3c83",
   "metadata": {},
   "outputs": [
    {
     "data": {
      "text/html": [
       "<div>\n",
       "<style scoped>\n",
       "    .dataframe tbody tr th:only-of-type {\n",
       "        vertical-align: middle;\n",
       "    }\n",
       "\n",
       "    .dataframe tbody tr th {\n",
       "        vertical-align: top;\n",
       "    }\n",
       "\n",
       "    .dataframe thead th {\n",
       "        text-align: right;\n",
       "    }\n",
       "</style>\n",
       "<table border=\"1\" class=\"dataframe\">\n",
       "  <thead>\n",
       "    <tr style=\"text-align: right;\">\n",
       "      <th></th>\n",
       "      <th>MW</th>\n",
       "      <th>State</th>\n",
       "      <th>Scope</th>\n",
       "      <th>Region</th>\n",
       "      <th>BES_Sch_Duration</th>\n",
       "    </tr>\n",
       "  </thead>\n",
       "  <tbody>\n",
       "    <tr>\n",
       "      <th>0</th>\n",
       "      <td>250</td>\n",
       "      <td>0.0</td>\n",
       "      <td>1.0</td>\n",
       "      <td>0</td>\n",
       "      <td>240</td>\n",
       "    </tr>\n",
       "    <tr>\n",
       "      <th>2</th>\n",
       "      <td>250</td>\n",
       "      <td>2.0</td>\n",
       "      <td>0.0</td>\n",
       "      <td>0</td>\n",
       "      <td>272</td>\n",
       "    </tr>\n",
       "    <tr>\n",
       "      <th>3</th>\n",
       "      <td>250</td>\n",
       "      <td>3.0</td>\n",
       "      <td>0.0</td>\n",
       "      <td>1</td>\n",
       "      <td>245</td>\n",
       "    </tr>\n",
       "    <tr>\n",
       "      <th>4</th>\n",
       "      <td>500</td>\n",
       "      <td>4.0</td>\n",
       "      <td>1.0</td>\n",
       "      <td>1</td>\n",
       "      <td>309</td>\n",
       "    </tr>\n",
       "    <tr>\n",
       "      <th>5</th>\n",
       "      <td>500</td>\n",
       "      <td>5.0</td>\n",
       "      <td>0.0</td>\n",
       "      <td>3</td>\n",
       "      <td>304</td>\n",
       "    </tr>\n",
       "    <tr>\n",
       "      <th>...</th>\n",
       "      <td>...</td>\n",
       "      <td>...</td>\n",
       "      <td>...</td>\n",
       "      <td>...</td>\n",
       "      <td>...</td>\n",
       "    </tr>\n",
       "    <tr>\n",
       "      <th>242</th>\n",
       "      <td>270</td>\n",
       "      <td>3.0</td>\n",
       "      <td>0.0</td>\n",
       "      <td>1</td>\n",
       "      <td>304</td>\n",
       "    </tr>\n",
       "    <tr>\n",
       "      <th>243</th>\n",
       "      <td>270</td>\n",
       "      <td>3.0</td>\n",
       "      <td>0.0</td>\n",
       "      <td>1</td>\n",
       "      <td>243</td>\n",
       "    </tr>\n",
       "    <tr>\n",
       "      <th>246</th>\n",
       "      <td>210</td>\n",
       "      <td>15.0</td>\n",
       "      <td>0.0</td>\n",
       "      <td>3</td>\n",
       "      <td>306</td>\n",
       "    </tr>\n",
       "    <tr>\n",
       "      <th>247</th>\n",
       "      <td>210</td>\n",
       "      <td>15.0</td>\n",
       "      <td>0.0</td>\n",
       "      <td>3</td>\n",
       "      <td>396</td>\n",
       "    </tr>\n",
       "    <tr>\n",
       "      <th>248</th>\n",
       "      <td>600</td>\n",
       "      <td>2.0</td>\n",
       "      <td>0.0</td>\n",
       "      <td>1</td>\n",
       "      <td>284</td>\n",
       "    </tr>\n",
       "  </tbody>\n",
       "</table>\n",
       "<p>238 rows × 5 columns</p>\n",
       "</div>"
      ],
      "text/plain": [
       "      MW  State  Scope  Region  BES_Sch_Duration\n",
       "0    250    0.0    1.0       0               240\n",
       "2    250    2.0    0.0       0               272\n",
       "3    250    3.0    0.0       1               245\n",
       "4    500    4.0    1.0       1               309\n",
       "5    500    5.0    0.0       3               304\n",
       "..   ...    ...    ...     ...               ...\n",
       "242  270    3.0    0.0       1               304\n",
       "243  270    3.0    0.0       1               243\n",
       "246  210   15.0    0.0       3               306\n",
       "247  210   15.0    0.0       3               396\n",
       "248  600    2.0    0.0       1               284\n",
       "\n",
       "[238 rows x 5 columns]"
      ]
     },
     "execution_count": 93,
     "metadata": {},
     "output_type": "execute_result"
    }
   ],
   "source": [
    "x_act"
   ]
  },
  {
   "cell_type": "code",
   "execution_count": 94,
   "id": "a8292f2f",
   "metadata": {},
   "outputs": [
    {
     "data": {
      "text/plain": [
       "0      255.000000\n",
       "2      304.000000\n",
       "3      308.000000\n",
       "4      364.000000\n",
       "5      304.000000\n",
       "          ...    \n",
       "242    570.721739\n",
       "243    355.000000\n",
       "246    527.000000\n",
       "247    756.000000\n",
       "248    417.000000\n",
       "Name: BES_Act_Duration, Length: 238, dtype: float64"
      ]
     },
     "execution_count": 94,
     "metadata": {},
     "output_type": "execute_result"
    }
   ],
   "source": [
    "y_act"
   ]
  },
  {
   "cell_type": "code",
   "execution_count": 95,
   "id": "7e9f7e36",
   "metadata": {},
   "outputs": [
    {
     "data": {
      "text/plain": [
       "MW                  0\n",
       "State               1\n",
       "Scope               1\n",
       "Region              0\n",
       "BES_Sch_Duration    0\n",
       "dtype: int64"
      ]
     },
     "execution_count": 95,
     "metadata": {},
     "output_type": "execute_result"
    }
   ],
   "source": [
    "x_act.isnull().sum()"
   ]
  },
  {
   "cell_type": "code",
   "execution_count": 96,
   "id": "78492743",
   "metadata": {},
   "outputs": [],
   "source": [
    "x_act['State']=x_act['State'].fillna(0)"
   ]
  },
  {
   "cell_type": "code",
   "execution_count": 97,
   "id": "397688e6",
   "metadata": {},
   "outputs": [
    {
     "data": {
      "text/plain": [
       "MW                  0\n",
       "State               0\n",
       "Scope               1\n",
       "Region              0\n",
       "BES_Sch_Duration    0\n",
       "dtype: int64"
      ]
     },
     "execution_count": 97,
     "metadata": {},
     "output_type": "execute_result"
    }
   ],
   "source": [
    "x_act.isnull().sum()"
   ]
  },
  {
   "cell_type": "code",
   "execution_count": 98,
   "id": "9cce5993",
   "metadata": {},
   "outputs": [],
   "source": [
    "x_act['Scope']=x_act['Scope'].fillna(0)"
   ]
  },
  {
   "cell_type": "code",
   "execution_count": 99,
   "id": "1c2a8c47",
   "metadata": {},
   "outputs": [],
   "source": [
    "x_act['BES_Sch_Duration']=x_act['BES_Sch_Duration'].fillna(x_act['BES_Sch_Duration'].mean())"
   ]
  },
  {
   "cell_type": "code",
   "execution_count": 100,
   "id": "aa35b029",
   "metadata": {},
   "outputs": [
    {
     "data": {
      "text/plain": [
       "MW                  0\n",
       "State               0\n",
       "Scope               0\n",
       "Region              0\n",
       "BES_Sch_Duration    0\n",
       "dtype: int64"
      ]
     },
     "execution_count": 100,
     "metadata": {},
     "output_type": "execute_result"
    }
   ],
   "source": [
    "x_act.isnull().sum()"
   ]
  },
  {
   "cell_type": "code",
   "execution_count": 101,
   "id": "aba45349",
   "metadata": {},
   "outputs": [],
   "source": [
    "x_train_act,x_test_act,y_train_act, y_test_act= train_test_split(x_act,y_act, test_size=0.1, random_state=1)"
   ]
  },
  {
   "cell_type": "code",
   "execution_count": 102,
   "id": "8dbe6ddc",
   "metadata": {},
   "outputs": [],
   "source": [
    "lr_act= LinearRegression()"
   ]
  },
  {
   "cell_type": "code",
   "execution_count": 103,
   "id": "9867d4ad",
   "metadata": {},
   "outputs": [
    {
     "data": {
      "text/plain": [
       "LinearRegression()"
      ]
     },
     "execution_count": 103,
     "metadata": {},
     "output_type": "execute_result"
    }
   ],
   "source": [
    "lr_act.fit(x_train_act,y_train_act)"
   ]
  },
  {
   "cell_type": "code",
   "execution_count": 104,
   "id": "7a9a3ae6",
   "metadata": {},
   "outputs": [
    {
     "name": "stderr",
     "output_type": "stream",
     "text": [
      "c:\\Users\\abhishek ranjan\\AppData\\Local\\Programs\\Python\\Python310\\lib\\site-packages\\sklearn\\base.py:450: UserWarning: X does not have valid feature names, but LinearRegression was fitted with feature names\n",
      "  warnings.warn(\n"
     ]
    },
    {
     "data": {
      "text/plain": [
       "array([433.83902763])"
      ]
     },
     "execution_count": 104,
     "metadata": {},
     "output_type": "execute_result"
    }
   ],
   "source": [
    "lr_act.predict([[500,0,1,0,365]])"
   ]
  },
  {
   "cell_type": "code",
   "execution_count": 105,
   "id": "02cb0be5",
   "metadata": {},
   "outputs": [
    {
     "name": "stderr",
     "output_type": "stream",
     "text": [
      "c:\\Users\\abhishek ranjan\\AppData\\Local\\Programs\\Python\\Python310\\lib\\site-packages\\sklearn\\base.py:450: UserWarning: X does not have valid feature names, but LinearRegression was fitted with feature names\n",
      "  warnings.warn(\n"
     ]
    },
    {
     "data": {
      "text/plain": [
       "array([479.33376261])"
      ]
     },
     "execution_count": 105,
     "metadata": {},
     "output_type": "execute_result"
    }
   ],
   "source": [
    "lr_act.predict([[660,0,1,0,400]])"
   ]
  },
  {
   "cell_type": "code",
   "execution_count": 106,
   "id": "0f2a0931",
   "metadata": {},
   "outputs": [
    {
     "name": "stderr",
     "output_type": "stream",
     "text": [
      "c:\\Users\\abhishek ranjan\\AppData\\Local\\Programs\\Python\\Python310\\lib\\site-packages\\sklearn\\base.py:450: UserWarning: X does not have valid feature names, but LinearRegression was fitted with feature names\n",
      "  warnings.warn(\n"
     ]
    },
    {
     "data": {
      "text/plain": [
       "array([425.14927788])"
      ]
     },
     "execution_count": 106,
     "metadata": {},
     "output_type": "execute_result"
    }
   ],
   "source": [
    "lr_act.predict([[500,0,0,0,365]])"
   ]
  },
  {
   "cell_type": "code",
   "execution_count": 107,
   "id": "55848b59",
   "metadata": {},
   "outputs": [
    {
     "name": "stderr",
     "output_type": "stream",
     "text": [
      "c:\\Users\\abhishek ranjan\\AppData\\Local\\Programs\\Python\\Python310\\lib\\site-packages\\sklearn\\base.py:450: UserWarning: X does not have valid feature names, but LinearRegression was fitted with feature names\n",
      "  warnings.warn(\n"
     ]
    },
    {
     "data": {
      "text/plain": [
       "array([436.3416929])"
      ]
     },
     "execution_count": 107,
     "metadata": {},
     "output_type": "execute_result"
    }
   ],
   "source": [
    "lr_act.predict([[660,0,0,0,365]])"
   ]
  },
  {
   "cell_type": "code",
   "execution_count": 108,
   "id": "ed900267",
   "metadata": {},
   "outputs": [],
   "source": [
    "# data=data['FULL LOAD_Schedule'].dropna()"
   ]
  },
  {
   "cell_type": "code",
   "execution_count": 109,
   "id": "94fe1df1",
   "metadata": {},
   "outputs": [],
   "source": [
    "data=data[data['FULL LOAD_Schedule']!='N.A.']"
   ]
  },
  {
   "cell_type": "code",
   "execution_count": 110,
   "id": "9266967a",
   "metadata": {},
   "outputs": [
    {
     "data": {
      "text/plain": [
       "count            209\n",
       "unique           197\n",
       "top       12-07-2011\n",
       "freq               2\n",
       "Name: FULL LOAD_Schedule, dtype: object"
      ]
     },
     "execution_count": 110,
     "metadata": {},
     "output_type": "execute_result"
    }
   ],
   "source": [
    "data['FULL LOAD_Schedule'].describe()"
   ]
  },
  {
   "cell_type": "code",
   "execution_count": 111,
   "id": "b5fe5015",
   "metadata": {},
   "outputs": [],
   "source": [
    "data['FULL LOAD_Schedule'] = pd.to_datetime(data['FULL LOAD_Schedule'], format = '%d-%m-%Y')"
   ]
  },
  {
   "cell_type": "code",
   "execution_count": 112,
   "id": "2cfc2901",
   "metadata": {},
   "outputs": [],
   "source": [
    "data['FULL LOAD_Schedule_Duration']= (data['FULL LOAD_Schedule']-data['Zero Date']).dt.days"
   ]
  },
  {
   "cell_type": "code",
   "execution_count": 113,
   "id": "ee490b79",
   "metadata": {},
   "outputs": [
    {
     "data": {
      "text/plain": [
       "(210,)"
      ]
     },
     "execution_count": 113,
     "metadata": {},
     "output_type": "execute_result"
    }
   ],
   "source": [
    "data['FULL LOAD_Schedule_Duration'].shape"
   ]
  },
  {
   "cell_type": "code",
   "execution_count": 114,
   "id": "dfdce2fd",
   "metadata": {},
   "outputs": [],
   "source": [
    "lr2= LinearRegression()"
   ]
  },
  {
   "cell_type": "code",
   "execution_count": 115,
   "id": "8699fd55",
   "metadata": {},
   "outputs": [
    {
     "data": {
      "text/plain": [
       "Index(['Project', 'MW', 'Zero Date', 'State', 'Scope', 'Region', 'Customer',\n",
       "       'PROJECT START_Schedule', 'PROJECT START_Schedule_Exp/Actual',\n",
       "       'SITE OPENING_Schedule', 'SITE OPENING_Schedule_Exp/Actual',\n",
       "       'CVL START_Schedule', 'CVL START_Schedule_Exp/Actual',\n",
       "       'BOILER ERECTION START_Schedule',\n",
       "       'BOILER ERECTION START_Schedule_Exp/Actual', 'DRUM LIFTING_Schedule',\n",
       "       'DRUM LIFTING_Schedule_Exp/Actual',\n",
       "       'CEILING GIRDER/SEPERATOR ERECTION COMPLETION_Schedule',\n",
       "       'CEILING GIRDER/SEPERATOR ERECTION COMPLETION_Schedule_Exp/Actual',\n",
       "       'HYDRAULIC TEST_Schedule', 'HYDRAULIC TEST_Schedule_Exp/Actual',\n",
       "       'BOILER LIGHT UP_Schedule', 'BOILER LIGHT UP_Schedule_Exp/Actual',\n",
       "       'ALKALI BOIL OUT COMPLETION_Schedule',\n",
       "       'ALKALI BOIL OUT COMPLETION_Schedule_Exp/Actual', 'EDTA START_Schedule',\n",
       "       'EDTA START_Schedule_Exp/Actual', 'EDTA COMPLETION_Schedule',\n",
       "       'EDTA COMPLETION_Schedule_Exp/Actual', 'STEAM BLOWING START_Schedule',\n",
       "       'STEAM BLOWING START_Schedule_Exp/Actual',\n",
       "       'STEAM BLOWING COMPLETION_Schedule',\n",
       "       'STEAM BLOWING COMPLETION_Schedule_Exp/Actual',\n",
       "       'NORMALIZATION_Schedule', 'NORMALIZATION_Schedule_Exp/Actual',\n",
       "       'CONDENSER ERECTION START_Schedule',\n",
       "       'CONDENSER ERECTION START_Schedule_Exp/Actual',\n",
       "       'TURBINE ERECTION START_Schedule',\n",
       "       'TURBINE ERECTION START_Schedule_Exp/Actual', 'TG BOX UP_Schedule',\n",
       "       'TG BOX UP_Schedule_Exp/Actual', 'OIL FLUSHING START_Schedule',\n",
       "       'OIL FLUSHING START_Schedule_Exp/Actual',\n",
       "       'OIL FLUSHING COMPLETION_Schedule',\n",
       "       'OIL FLUSHING COMPLETION_Schedule_Exp/Actual', 'BARRING GEAR_Schedule',\n",
       "       'BARRING GEAR_Schedule_Exp/Actual', 'ROLLING_Schedule',\n",
       "       'ROLLING_Schedule_Exp/Actual', 'SYNCHRONISATION_Schedule',\n",
       "       'SYNCHRONISATION_Schedule_Exp/Actual', 'FULL LOAD_Schedule',\n",
       "       'FULL LOAD_Schedule_Exp/Actual', 'CAPACITY ADDITION_Schedule',\n",
       "       'CAPACITY ADDITION_Schedule_Exp/Actual',\n",
       "       'COMMERCIAL OPERATION DECLARATION_Schedule',\n",
       "       'COMMERCIAL OPERATION DECLARATION_Schedule_Exp/Actual',\n",
       "       'TRIAL OPERATION COMPLETION_Schedule',\n",
       "       'TRIAL OPERATION COMPLETION_Schedule_Exp/Actual', 'HAND OVER_Schedule',\n",
       "       'HAND OVER_Schedule_Exp/Actual', 'BES_Sch_Duration', 'BES_Act_Duration',\n",
       "       'FULL LOAD_Schedule_Duration'],\n",
       "      dtype='object')"
      ]
     },
     "execution_count": 115,
     "metadata": {},
     "output_type": "execute_result"
    }
   ],
   "source": [
    "data.columns"
   ]
  },
  {
   "cell_type": "code",
   "execution_count": 116,
   "id": "fad5503d",
   "metadata": {},
   "outputs": [
    {
     "data": {
      "text/plain": [
       "(210, 64)"
      ]
     },
     "execution_count": 116,
     "metadata": {},
     "output_type": "execute_result"
    }
   ],
   "source": [
    "data.shape"
   ]
  },
  {
   "cell_type": "code",
   "execution_count": 117,
   "id": "50f0868d",
   "metadata": {},
   "outputs": [],
   "source": [
    "data= data.dropna(subset=['BES_Sch_Duration','BES_Act_Duration'], axis=0)"
   ]
  },
  {
   "cell_type": "code",
   "execution_count": null,
   "id": "ed06c53f",
   "metadata": {},
   "outputs": [],
   "source": []
  },
  {
   "cell_type": "code",
   "execution_count": 118,
   "id": "71b6e2e9",
   "metadata": {},
   "outputs": [],
   "source": [
    "x_FL_sch= data.iloc[:,1:63]"
   ]
  },
  {
   "cell_type": "code",
   "execution_count": 119,
   "id": "b2f5535b",
   "metadata": {},
   "outputs": [
    {
     "data": {
      "text/plain": [
       "(202, 62)"
      ]
     },
     "execution_count": 119,
     "metadata": {},
     "output_type": "execute_result"
    }
   ],
   "source": [
    "x_FL_sch.shape"
   ]
  },
  {
   "cell_type": "code",
   "execution_count": 120,
   "id": "263af16c",
   "metadata": {},
   "outputs": [],
   "source": [
    "x_FL_sch= x_FL_sch.drop(columns=['Zero Date','PROJECT START_Schedule', 'PROJECT START_Schedule_Exp/Actual',\n",
    "       'SITE OPENING_Schedule', 'SITE OPENING_Schedule_Exp/Actual',\n",
    "       'CVL START_Schedule', 'CVL START_Schedule_Exp/Actual',\n",
    "       'BOILER ERECTION START_Schedule',\n",
    "       'BOILER ERECTION START_Schedule_Exp/Actual', 'DRUM LIFTING_Schedule',\n",
    "       'DRUM LIFTING_Schedule_Exp/Actual',\n",
    "       'CEILING GIRDER/SEPERATOR ERECTION COMPLETION_Schedule',\n",
    "       'CEILING GIRDER/SEPERATOR ERECTION COMPLETION_Schedule_Exp/Actual',\n",
    "       'HYDRAULIC TEST_Schedule', 'HYDRAULIC TEST_Schedule_Exp/Actual',\n",
    "       'BOILER LIGHT UP_Schedule', 'BOILER LIGHT UP_Schedule_Exp/Actual',\n",
    "       'ALKALI BOIL OUT COMPLETION_Schedule',\n",
    "       'ALKALI BOIL OUT COMPLETION_Schedule_Exp/Actual', 'EDTA START_Schedule',\n",
    "       'EDTA START_Schedule_Exp/Actual', 'EDTA COMPLETION_Schedule',\n",
    "       'EDTA COMPLETION_Schedule_Exp/Actual', 'STEAM BLOWING START_Schedule',\n",
    "       'STEAM BLOWING START_Schedule_Exp/Actual',\n",
    "       'STEAM BLOWING COMPLETION_Schedule',\n",
    "       'STEAM BLOWING COMPLETION_Schedule_Exp/Actual',\n",
    "       'NORMALIZATION_Schedule', 'NORMALIZATION_Schedule_Exp/Actual',\n",
    "       'CONDENSER ERECTION START_Schedule',\n",
    "       'CONDENSER ERECTION START_Schedule_Exp/Actual',\n",
    "       'TURBINE ERECTION START_Schedule',\n",
    "       'TURBINE ERECTION START_Schedule_Exp/Actual', 'TG BOX UP_Schedule',\n",
    "       'TG BOX UP_Schedule_Exp/Actual', 'OIL FLUSHING START_Schedule',\n",
    "       'OIL FLUSHING START_Schedule_Exp/Actual',\n",
    "       'OIL FLUSHING COMPLETION_Schedule',\n",
    "       'OIL FLUSHING COMPLETION_Schedule_Exp/Actual', 'BARRING GEAR_Schedule',\n",
    "       'BARRING GEAR_Schedule_Exp/Actual', 'ROLLING_Schedule',\n",
    "       'ROLLING_Schedule_Exp/Actual', 'SYNCHRONISATION_Schedule',\n",
    "       'SYNCHRONISATION_Schedule_Exp/Actual', 'FULL LOAD_Schedule',\n",
    "       'FULL LOAD_Schedule_Exp/Actual', 'CAPACITY ADDITION_Schedule',\n",
    "       'CAPACITY ADDITION_Schedule_Exp/Actual',\n",
    "       'COMMERCIAL OPERATION DECLARATION_Schedule',\n",
    "       'COMMERCIAL OPERATION DECLARATION_Schedule_Exp/Actual',\n",
    "       'TRIAL OPERATION COMPLETION_Schedule',\n",
    "       'TRIAL OPERATION COMPLETION_Schedule_Exp/Actual', 'HAND OVER_Schedule',\n",
    "       'HAND OVER_Schedule_Exp/Actual'], axis=1)"
   ]
  },
  {
   "cell_type": "code",
   "execution_count": 121,
   "id": "3b77af9a",
   "metadata": {},
   "outputs": [
    {
     "data": {
      "text/html": [
       "<div>\n",
       "<style scoped>\n",
       "    .dataframe tbody tr th:only-of-type {\n",
       "        vertical-align: middle;\n",
       "    }\n",
       "\n",
       "    .dataframe tbody tr th {\n",
       "        vertical-align: top;\n",
       "    }\n",
       "\n",
       "    .dataframe thead th {\n",
       "        text-align: right;\n",
       "    }\n",
       "</style>\n",
       "<table border=\"1\" class=\"dataframe\">\n",
       "  <thead>\n",
       "    <tr style=\"text-align: right;\">\n",
       "      <th></th>\n",
       "      <th>MW</th>\n",
       "      <th>State</th>\n",
       "      <th>Scope</th>\n",
       "      <th>Region</th>\n",
       "      <th>Customer</th>\n",
       "      <th>BES_Sch_Duration</th>\n",
       "      <th>BES_Act_Duration</th>\n",
       "    </tr>\n",
       "  </thead>\n",
       "  <tbody>\n",
       "    <tr>\n",
       "      <th>21</th>\n",
       "      <td>500</td>\n",
       "      <td>5.0</td>\n",
       "      <td>0.0</td>\n",
       "      <td>3</td>\n",
       "      <td>1</td>\n",
       "      <td>456</td>\n",
       "      <td>471.0</td>\n",
       "    </tr>\n",
       "    <tr>\n",
       "      <th>22</th>\n",
       "      <td>250</td>\n",
       "      <td>9.0</td>\n",
       "      <td>0.0</td>\n",
       "      <td>1</td>\n",
       "      <td>0</td>\n",
       "      <td>210</td>\n",
       "      <td>210.0</td>\n",
       "    </tr>\n",
       "    <tr>\n",
       "      <th>23</th>\n",
       "      <td>210</td>\n",
       "      <td>0.0</td>\n",
       "      <td>0.0</td>\n",
       "      <td>0</td>\n",
       "      <td>0</td>\n",
       "      <td>304</td>\n",
       "      <td>366.0</td>\n",
       "    </tr>\n",
       "    <tr>\n",
       "      <th>24</th>\n",
       "      <td>125</td>\n",
       "      <td>1.0</td>\n",
       "      <td>0.0</td>\n",
       "      <td>2</td>\n",
       "      <td>0</td>\n",
       "      <td>364</td>\n",
       "      <td>364.0</td>\n",
       "    </tr>\n",
       "    <tr>\n",
       "      <th>25</th>\n",
       "      <td>250</td>\n",
       "      <td>5.0</td>\n",
       "      <td>1.0</td>\n",
       "      <td>1</td>\n",
       "      <td>0</td>\n",
       "      <td>334</td>\n",
       "      <td>416.0</td>\n",
       "    </tr>\n",
       "    <tr>\n",
       "      <th>...</th>\n",
       "      <td>...</td>\n",
       "      <td>...</td>\n",
       "      <td>...</td>\n",
       "      <td>...</td>\n",
       "      <td>...</td>\n",
       "      <td>...</td>\n",
       "      <td>...</td>\n",
       "    </tr>\n",
       "    <tr>\n",
       "      <th>238</th>\n",
       "      <td>525</td>\n",
       "      <td>18.0</td>\n",
       "      <td>0.0</td>\n",
       "      <td>3</td>\n",
       "      <td>0</td>\n",
       "      <td>366</td>\n",
       "      <td>850.0</td>\n",
       "    </tr>\n",
       "    <tr>\n",
       "      <th>243</th>\n",
       "      <td>270</td>\n",
       "      <td>3.0</td>\n",
       "      <td>0.0</td>\n",
       "      <td>1</td>\n",
       "      <td>0</td>\n",
       "      <td>243</td>\n",
       "      <td>355.0</td>\n",
       "    </tr>\n",
       "    <tr>\n",
       "      <th>246</th>\n",
       "      <td>210</td>\n",
       "      <td>15.0</td>\n",
       "      <td>0.0</td>\n",
       "      <td>3</td>\n",
       "      <td>0</td>\n",
       "      <td>306</td>\n",
       "      <td>527.0</td>\n",
       "    </tr>\n",
       "    <tr>\n",
       "      <th>247</th>\n",
       "      <td>210</td>\n",
       "      <td>15.0</td>\n",
       "      <td>0.0</td>\n",
       "      <td>3</td>\n",
       "      <td>0</td>\n",
       "      <td>396</td>\n",
       "      <td>756.0</td>\n",
       "    </tr>\n",
       "    <tr>\n",
       "      <th>248</th>\n",
       "      <td>600</td>\n",
       "      <td>2.0</td>\n",
       "      <td>0.0</td>\n",
       "      <td>1</td>\n",
       "      <td>0</td>\n",
       "      <td>284</td>\n",
       "      <td>417.0</td>\n",
       "    </tr>\n",
       "  </tbody>\n",
       "</table>\n",
       "<p>202 rows × 7 columns</p>\n",
       "</div>"
      ],
      "text/plain": [
       "      MW  State  Scope  Region Customer  BES_Sch_Duration  BES_Act_Duration\n",
       "21   500    5.0    0.0       3        1               456             471.0\n",
       "22   250    9.0    0.0       1        0               210             210.0\n",
       "23   210    0.0    0.0       0        0               304             366.0\n",
       "24   125    1.0    0.0       2        0               364             364.0\n",
       "25   250    5.0    1.0       1        0               334             416.0\n",
       "..   ...    ...    ...     ...      ...               ...               ...\n",
       "238  525   18.0    0.0       3        0               366             850.0\n",
       "243  270    3.0    0.0       1        0               243             355.0\n",
       "246  210   15.0    0.0       3        0               306             527.0\n",
       "247  210   15.0    0.0       3        0               396             756.0\n",
       "248  600    2.0    0.0       1        0               284             417.0\n",
       "\n",
       "[202 rows x 7 columns]"
      ]
     },
     "execution_count": 121,
     "metadata": {},
     "output_type": "execute_result"
    }
   ],
   "source": [
    "x_FL_sch"
   ]
  },
  {
   "cell_type": "code",
   "execution_count": 122,
   "id": "1772af39",
   "metadata": {},
   "outputs": [],
   "source": [
    "y_FL_sch= data['FULL LOAD_Schedule_Duration']"
   ]
  },
  {
   "cell_type": "code",
   "execution_count": 123,
   "id": "53aee848",
   "metadata": {},
   "outputs": [
    {
     "data": {
      "text/plain": [
       "21     1369.0\n",
       "22      854.0\n",
       "23     1063.0\n",
       "24      942.0\n",
       "25      928.0\n",
       "        ...  \n",
       "238    1209.0\n",
       "243    1369.0\n",
       "246    1036.0\n",
       "247    1126.0\n",
       "248       NaN\n",
       "Name: FULL LOAD_Schedule_Duration, Length: 202, dtype: float64"
      ]
     },
     "execution_count": 123,
     "metadata": {},
     "output_type": "execute_result"
    }
   ],
   "source": [
    "y_FL_sch"
   ]
  },
  {
   "cell_type": "code",
   "execution_count": 124,
   "id": "81f9296c",
   "metadata": {},
   "outputs": [
    {
     "data": {
      "text/plain": [
       "21     1369.000000\n",
       "22      854.000000\n",
       "23     1063.000000\n",
       "24      942.000000\n",
       "25      928.000000\n",
       "          ...     \n",
       "238    1209.000000\n",
       "243    1369.000000\n",
       "246    1036.000000\n",
       "247    1126.000000\n",
       "248    1236.512438\n",
       "Name: FULL LOAD_Schedule_Duration, Length: 202, dtype: float64"
      ]
     },
     "execution_count": 124,
     "metadata": {},
     "output_type": "execute_result"
    }
   ],
   "source": [
    "y_FL_sch.fillna(y_FL_sch.mean())"
   ]
  },
  {
   "cell_type": "code",
   "execution_count": 125,
   "id": "002e3b74",
   "metadata": {},
   "outputs": [],
   "source": [
    "x_FL_sch= x_FL_sch.dropna(subset=['BES_Act_Duration','BES_Sch_Duration'], axis=0)"
   ]
  },
  {
   "cell_type": "code",
   "execution_count": 126,
   "id": "4511f0d4",
   "metadata": {},
   "outputs": [
    {
     "data": {
      "text/html": [
       "<div>\n",
       "<style scoped>\n",
       "    .dataframe tbody tr th:only-of-type {\n",
       "        vertical-align: middle;\n",
       "    }\n",
       "\n",
       "    .dataframe tbody tr th {\n",
       "        vertical-align: top;\n",
       "    }\n",
       "\n",
       "    .dataframe thead th {\n",
       "        text-align: right;\n",
       "    }\n",
       "</style>\n",
       "<table border=\"1\" class=\"dataframe\">\n",
       "  <thead>\n",
       "    <tr style=\"text-align: right;\">\n",
       "      <th></th>\n",
       "      <th>MW</th>\n",
       "      <th>State</th>\n",
       "      <th>Scope</th>\n",
       "      <th>Region</th>\n",
       "      <th>Customer</th>\n",
       "      <th>BES_Sch_Duration</th>\n",
       "      <th>BES_Act_Duration</th>\n",
       "    </tr>\n",
       "  </thead>\n",
       "  <tbody>\n",
       "    <tr>\n",
       "      <th>21</th>\n",
       "      <td>500</td>\n",
       "      <td>5.0</td>\n",
       "      <td>0.0</td>\n",
       "      <td>3</td>\n",
       "      <td>1</td>\n",
       "      <td>456</td>\n",
       "      <td>471.0</td>\n",
       "    </tr>\n",
       "    <tr>\n",
       "      <th>22</th>\n",
       "      <td>250</td>\n",
       "      <td>9.0</td>\n",
       "      <td>0.0</td>\n",
       "      <td>1</td>\n",
       "      <td>0</td>\n",
       "      <td>210</td>\n",
       "      <td>210.0</td>\n",
       "    </tr>\n",
       "    <tr>\n",
       "      <th>23</th>\n",
       "      <td>210</td>\n",
       "      <td>0.0</td>\n",
       "      <td>0.0</td>\n",
       "      <td>0</td>\n",
       "      <td>0</td>\n",
       "      <td>304</td>\n",
       "      <td>366.0</td>\n",
       "    </tr>\n",
       "    <tr>\n",
       "      <th>24</th>\n",
       "      <td>125</td>\n",
       "      <td>1.0</td>\n",
       "      <td>0.0</td>\n",
       "      <td>2</td>\n",
       "      <td>0</td>\n",
       "      <td>364</td>\n",
       "      <td>364.0</td>\n",
       "    </tr>\n",
       "    <tr>\n",
       "      <th>25</th>\n",
       "      <td>250</td>\n",
       "      <td>5.0</td>\n",
       "      <td>1.0</td>\n",
       "      <td>1</td>\n",
       "      <td>0</td>\n",
       "      <td>334</td>\n",
       "      <td>416.0</td>\n",
       "    </tr>\n",
       "    <tr>\n",
       "      <th>...</th>\n",
       "      <td>...</td>\n",
       "      <td>...</td>\n",
       "      <td>...</td>\n",
       "      <td>...</td>\n",
       "      <td>...</td>\n",
       "      <td>...</td>\n",
       "      <td>...</td>\n",
       "    </tr>\n",
       "    <tr>\n",
       "      <th>238</th>\n",
       "      <td>525</td>\n",
       "      <td>18.0</td>\n",
       "      <td>0.0</td>\n",
       "      <td>3</td>\n",
       "      <td>0</td>\n",
       "      <td>366</td>\n",
       "      <td>850.0</td>\n",
       "    </tr>\n",
       "    <tr>\n",
       "      <th>243</th>\n",
       "      <td>270</td>\n",
       "      <td>3.0</td>\n",
       "      <td>0.0</td>\n",
       "      <td>1</td>\n",
       "      <td>0</td>\n",
       "      <td>243</td>\n",
       "      <td>355.0</td>\n",
       "    </tr>\n",
       "    <tr>\n",
       "      <th>246</th>\n",
       "      <td>210</td>\n",
       "      <td>15.0</td>\n",
       "      <td>0.0</td>\n",
       "      <td>3</td>\n",
       "      <td>0</td>\n",
       "      <td>306</td>\n",
       "      <td>527.0</td>\n",
       "    </tr>\n",
       "    <tr>\n",
       "      <th>247</th>\n",
       "      <td>210</td>\n",
       "      <td>15.0</td>\n",
       "      <td>0.0</td>\n",
       "      <td>3</td>\n",
       "      <td>0</td>\n",
       "      <td>396</td>\n",
       "      <td>756.0</td>\n",
       "    </tr>\n",
       "    <tr>\n",
       "      <th>248</th>\n",
       "      <td>600</td>\n",
       "      <td>2.0</td>\n",
       "      <td>0.0</td>\n",
       "      <td>1</td>\n",
       "      <td>0</td>\n",
       "      <td>284</td>\n",
       "      <td>417.0</td>\n",
       "    </tr>\n",
       "  </tbody>\n",
       "</table>\n",
       "<p>202 rows × 7 columns</p>\n",
       "</div>"
      ],
      "text/plain": [
       "      MW  State  Scope  Region Customer  BES_Sch_Duration  BES_Act_Duration\n",
       "21   500    5.0    0.0       3        1               456             471.0\n",
       "22   250    9.0    0.0       1        0               210             210.0\n",
       "23   210    0.0    0.0       0        0               304             366.0\n",
       "24   125    1.0    0.0       2        0               364             364.0\n",
       "25   250    5.0    1.0       1        0               334             416.0\n",
       "..   ...    ...    ...     ...      ...               ...               ...\n",
       "238  525   18.0    0.0       3        0               366             850.0\n",
       "243  270    3.0    0.0       1        0               243             355.0\n",
       "246  210   15.0    0.0       3        0               306             527.0\n",
       "247  210   15.0    0.0       3        0               396             756.0\n",
       "248  600    2.0    0.0       1        0               284             417.0\n",
       "\n",
       "[202 rows x 7 columns]"
      ]
     },
     "execution_count": 126,
     "metadata": {},
     "output_type": "execute_result"
    }
   ],
   "source": [
    "x_FL_sch"
   ]
  },
  {
   "cell_type": "code",
   "execution_count": 127,
   "id": "4118b563",
   "metadata": {},
   "outputs": [
    {
     "data": {
      "text/html": [
       "<div>\n",
       "<style scoped>\n",
       "    .dataframe tbody tr th:only-of-type {\n",
       "        vertical-align: middle;\n",
       "    }\n",
       "\n",
       "    .dataframe tbody tr th {\n",
       "        vertical-align: top;\n",
       "    }\n",
       "\n",
       "    .dataframe thead th {\n",
       "        text-align: right;\n",
       "    }\n",
       "</style>\n",
       "<table border=\"1\" class=\"dataframe\">\n",
       "  <thead>\n",
       "    <tr style=\"text-align: right;\">\n",
       "      <th></th>\n",
       "      <th>MW</th>\n",
       "      <th>State</th>\n",
       "      <th>Scope</th>\n",
       "      <th>Region</th>\n",
       "      <th>Customer</th>\n",
       "      <th>BES_Sch_Duration</th>\n",
       "      <th>BES_Act_Duration</th>\n",
       "    </tr>\n",
       "  </thead>\n",
       "  <tbody>\n",
       "    <tr>\n",
       "      <th>21</th>\n",
       "      <td>500</td>\n",
       "      <td>5.0</td>\n",
       "      <td>0.0</td>\n",
       "      <td>3</td>\n",
       "      <td>1</td>\n",
       "      <td>456</td>\n",
       "      <td>471.0</td>\n",
       "    </tr>\n",
       "    <tr>\n",
       "      <th>22</th>\n",
       "      <td>250</td>\n",
       "      <td>9.0</td>\n",
       "      <td>0.0</td>\n",
       "      <td>1</td>\n",
       "      <td>0</td>\n",
       "      <td>210</td>\n",
       "      <td>210.0</td>\n",
       "    </tr>\n",
       "    <tr>\n",
       "      <th>23</th>\n",
       "      <td>210</td>\n",
       "      <td>0.0</td>\n",
       "      <td>0.0</td>\n",
       "      <td>0</td>\n",
       "      <td>0</td>\n",
       "      <td>304</td>\n",
       "      <td>366.0</td>\n",
       "    </tr>\n",
       "    <tr>\n",
       "      <th>24</th>\n",
       "      <td>125</td>\n",
       "      <td>1.0</td>\n",
       "      <td>0.0</td>\n",
       "      <td>2</td>\n",
       "      <td>0</td>\n",
       "      <td>364</td>\n",
       "      <td>364.0</td>\n",
       "    </tr>\n",
       "    <tr>\n",
       "      <th>25</th>\n",
       "      <td>250</td>\n",
       "      <td>5.0</td>\n",
       "      <td>1.0</td>\n",
       "      <td>1</td>\n",
       "      <td>0</td>\n",
       "      <td>334</td>\n",
       "      <td>416.0</td>\n",
       "    </tr>\n",
       "    <tr>\n",
       "      <th>...</th>\n",
       "      <td>...</td>\n",
       "      <td>...</td>\n",
       "      <td>...</td>\n",
       "      <td>...</td>\n",
       "      <td>...</td>\n",
       "      <td>...</td>\n",
       "      <td>...</td>\n",
       "    </tr>\n",
       "    <tr>\n",
       "      <th>238</th>\n",
       "      <td>525</td>\n",
       "      <td>18.0</td>\n",
       "      <td>0.0</td>\n",
       "      <td>3</td>\n",
       "      <td>0</td>\n",
       "      <td>366</td>\n",
       "      <td>850.0</td>\n",
       "    </tr>\n",
       "    <tr>\n",
       "      <th>243</th>\n",
       "      <td>270</td>\n",
       "      <td>3.0</td>\n",
       "      <td>0.0</td>\n",
       "      <td>1</td>\n",
       "      <td>0</td>\n",
       "      <td>243</td>\n",
       "      <td>355.0</td>\n",
       "    </tr>\n",
       "    <tr>\n",
       "      <th>246</th>\n",
       "      <td>210</td>\n",
       "      <td>15.0</td>\n",
       "      <td>0.0</td>\n",
       "      <td>3</td>\n",
       "      <td>0</td>\n",
       "      <td>306</td>\n",
       "      <td>527.0</td>\n",
       "    </tr>\n",
       "    <tr>\n",
       "      <th>247</th>\n",
       "      <td>210</td>\n",
       "      <td>15.0</td>\n",
       "      <td>0.0</td>\n",
       "      <td>3</td>\n",
       "      <td>0</td>\n",
       "      <td>396</td>\n",
       "      <td>756.0</td>\n",
       "    </tr>\n",
       "    <tr>\n",
       "      <th>248</th>\n",
       "      <td>600</td>\n",
       "      <td>2.0</td>\n",
       "      <td>0.0</td>\n",
       "      <td>1</td>\n",
       "      <td>0</td>\n",
       "      <td>284</td>\n",
       "      <td>417.0</td>\n",
       "    </tr>\n",
       "  </tbody>\n",
       "</table>\n",
       "<p>202 rows × 7 columns</p>\n",
       "</div>"
      ],
      "text/plain": [
       "      MW  State  Scope  Region Customer  BES_Sch_Duration  BES_Act_Duration\n",
       "21   500    5.0    0.0       3        1               456             471.0\n",
       "22   250    9.0    0.0       1        0               210             210.0\n",
       "23   210    0.0    0.0       0        0               304             366.0\n",
       "24   125    1.0    0.0       2        0               364             364.0\n",
       "25   250    5.0    1.0       1        0               334             416.0\n",
       "..   ...    ...    ...     ...      ...               ...               ...\n",
       "238  525   18.0    0.0       3        0               366             850.0\n",
       "243  270    3.0    0.0       1        0               243             355.0\n",
       "246  210   15.0    0.0       3        0               306             527.0\n",
       "247  210   15.0    0.0       3        0               396             756.0\n",
       "248  600    2.0    0.0       1        0               284             417.0\n",
       "\n",
       "[202 rows x 7 columns]"
      ]
     },
     "execution_count": 127,
     "metadata": {},
     "output_type": "execute_result"
    }
   ],
   "source": [
    "x_FL_sch"
   ]
  },
  {
   "cell_type": "code",
   "execution_count": 128,
   "id": "635c9a79",
   "metadata": {},
   "outputs": [],
   "source": [
    "y_FL_sch.replace([np.inf, -np.inf], np.nan, inplace=True)"
   ]
  },
  {
   "cell_type": "code",
   "execution_count": 129,
   "id": "d3f3227d",
   "metadata": {},
   "outputs": [],
   "source": [
    "y_FL_sch= y_FL_sch.fillna(y_FL_sch.mean())"
   ]
  },
  {
   "cell_type": "code",
   "execution_count": 130,
   "id": "a7f4d8c5",
   "metadata": {},
   "outputs": [
    {
     "data": {
      "text/plain": [
       "LinearRegression()"
      ]
     },
     "execution_count": 130,
     "metadata": {},
     "output_type": "execute_result"
    }
   ],
   "source": [
    "lr2.fit(x_FL_sch,y_FL_sch)"
   ]
  },
  {
   "cell_type": "code",
   "execution_count": 131,
   "id": "9bce64f4",
   "metadata": {},
   "outputs": [
    {
     "name": "stderr",
     "output_type": "stream",
     "text": [
      "c:\\Users\\abhishek ranjan\\AppData\\Local\\Programs\\Python\\Python310\\lib\\site-packages\\sklearn\\base.py:450: UserWarning: X does not have valid feature names, but LinearRegression was fitted with feature names\n",
      "  warnings.warn(\n"
     ]
    },
    {
     "data": {
      "text/plain": [
       "array([1401.07569448])"
      ]
     },
     "execution_count": 131,
     "metadata": {},
     "output_type": "execute_result"
    }
   ],
   "source": [
    "lr2.predict([[660,2,1,0,1,456,471]])"
   ]
  },
  {
   "cell_type": "code",
   "execution_count": 132,
   "id": "66159752",
   "metadata": {},
   "outputs": [],
   "source": [
    "import pickle"
   ]
  },
  {
   "cell_type": "code",
   "execution_count": 133,
   "id": "05db6f42",
   "metadata": {},
   "outputs": [],
   "source": [
    "pickle.dump(lr, open('BHEL_Milestone_predicter.pkl','wb'))\n",
    "\n"
   ]
  },
  {
   "cell_type": "code",
   "execution_count": 134,
   "id": "36806fe0",
   "metadata": {},
   "outputs": [],
   "source": [
    "# model_BES_Sch= joblib.load('BHEL_Milestone_predicter.pkl')\n",
    "model = pickle.load(open('BHEL_Milestone_predicter.pkl','rb'))"
   ]
  },
  {
   "cell_type": "code",
   "execution_count": 135,
   "id": "880bd5bc",
   "metadata": {},
   "outputs": [],
   "source": [
    "pickle.dump(lr_act, open('BHEL_Milestone_predicter_BESAct.pkl','wb'))"
   ]
  },
  {
   "cell_type": "code",
   "execution_count": 136,
   "id": "e1ff0143",
   "metadata": {},
   "outputs": [],
   "source": [
    "model2 = pickle.load(open('BHEL_Milestone_predicter_BESAct.pkl','rb'))"
   ]
  },
  {
   "cell_type": "code",
   "execution_count": 137,
   "id": "70c16d0e",
   "metadata": {},
   "outputs": [
    {
     "data": {
      "image/png": "[encoded data removed]",
      "text/plain": [
       "<Figure size 1296x432 with 1 Axes>"
      ]
     },
     "metadata": {},
     "output_type": "display_data"
    }
   ],
   "source": [
    "sns.catplot(y = \"BES_Sch_Duration\", x = \"MW\", data = data.sort_values(\"BES_Sch_Duration\", ascending = False), kind=\"boxen\", height = 6, aspect = 3)\n",
    "plt.show()"
   ]
  },
  {
   "cell_type": "code",
   "execution_count": 138,
   "id": "1ac51ae3",
   "metadata": {},
   "outputs": [
    {
     "data": {
      "image/png": "[encoded data removed]",
      "text/plain": [
       "<Figure size 1296x432 with 1 Axes>"
      ]
     },
     "metadata": {},
     "output_type": "display_data"
    }
   ],
   "source": [
    "sns.catplot(y = \"BES_Act_Duration\", x = \"MW\", data = data.sort_values(\"BES_Act_Duration\", ascending = False), kind=\"boxen\", height = 6, aspect = 3)\n",
    "plt.show()"
   ]
  },
  {
   "cell_type": "code",
   "execution_count": 139,
   "id": "14d78493",
   "metadata": {},
   "outputs": [
    {
     "data": {
      "image/png": "[encoded data removed]",
      "text/plain": [
       "<Figure size 432x432 with 3 Axes>"
      ]
     },
     "metadata": {},
     "output_type": "display_data"
    },
    {
     "data": {
      "image/png": "[encoded data removed]",
      "text/plain": [
       "<Figure size 432x432 with 3 Axes>"
      ]
     },
     "metadata": {},
     "output_type": "display_data"
    }
   ],
   "source": [
    "sns.jointplot(x = 'MW',y = 'BES_Act_Duration',data = data)\n",
    "sns.jointplot(x = 'MW',y = 'BES_Sch_Duration',data = data, color='green')\n",
    "plt.show()"
   ]
  },
  {
   "cell_type": "code",
   "execution_count": 140,
   "id": "07b32ecb",
   "metadata": {},
   "outputs": [],
   "source": [
    "data.to_excel('Milestones.xlsx')"
   ]
  },
  {
   "cell_type": "code",
   "execution_count": null,
   "id": "a1dec01e",
   "metadata": {},
   "outputs": [],
   "source": []
  }
 ],
 "metadata": {
  "kernelspec": {
   "display_name": "Python 3 (ipykernel)",
   "language": "python",
   "name": "python3"
  },
  "language_info": {
   "codemirror_mode": {
    "name": "ipython",
    "version": 3
   },
   "file_extension": ".py",
   "mimetype": "text/x-python",
   "name": "python",
   "nbconvert_exporter": "python",
   "pygments_lexer": "ipython3",
   "version": "3.10.1"
  }
 },
 "nbformat": 4,
 "nbformat_minor": 5
}
